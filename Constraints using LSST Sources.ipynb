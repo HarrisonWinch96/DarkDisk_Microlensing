{
 "cells": [
  {
   "cell_type": "code",
   "execution_count": 15,
   "metadata": {},
   "outputs": [],
   "source": [
    "import numpy as np\n",
    "import matplotlib.pyplot as plt\n",
    "from astropy.io import fits\n",
    "from astropy import units as u\n",
    "from astropy import constants as const\n",
    "\n",
    "import scipy.integrate as integrate\n",
    "\n",
    "import time"
   ]
  },
  {
   "cell_type": "code",
   "execution_count": null,
   "metadata": {},
   "outputs": [],
   "source": []
  },
  {
   "cell_type": "code",
   "execution_count": 2,
   "metadata": {},
   "outputs": [],
   "source": [
    "#density functions\n",
    "R0 = 8500.0*u.parsec #galactic radius of earth\n",
    "\n",
    "def rho_baryon(r,z,q):\n",
    "    A = 0.04*u.solMass/(u.parsec**3)\n",
    "    hr = 3000.0*u.parsec\n",
    "    R0 = 8500.0*u.parsec\n",
    "    hz = 400.0*u.parsec\n",
    "    return A*np.exp(-1*(r - R0)/hr)*np.exp(-1*np.abs(z)/hz)\n",
    "    \n",
    "def rho_semis(r, z,q):\n",
    "    R = np.sqrt(r**2 + (z/q)**2)\n",
    "    A = 0.03 *u.solMass / (u.parsec**3) #originally 0.0079\n",
    "    R0 = 8500.0*u.parsec\n",
    "    Rc = 5000.0*u.parsec\n",
    "    #print(r,z,R)\n",
    "    return A*(R0**2 + Rc**2)/(q*(R**2 + Rc**2))\n",
    "\n",
    "def galcoord(d, l, b):\n",
    "    R0 = 8500.0*u.parsec #galactic radius of earth\n",
    "    z = d*np.sin(b)\n",
    "    l = l*np.pi/180\n",
    "    b = b*np.pi/180\n",
    "    r = np.sqrt(R0**2 + (d*np.cos(b))**2 - 2.0*R0*d*np.cos(b)*np.cos(l))\n",
    "    return r,z\n",
    "\n",
    "def density(x,D,l,b,q,rhofunc):\n",
    "    d = D*x\n",
    "    r,z = galcoord(d,l,b)\n",
    "    return rhofunc(r,z,q)\n",
    "    \n"
   ]
  },
  {
   "cell_type": "code",
   "execution_count": 3,
   "metadata": {},
   "outputs": [],
   "source": [
    "#use 2 sigma error bars on poisson distribution to get exclusion bounds, look up scipy functions?\n",
    "#do for 2 and 5 sigma on poisson distributions\n",
    "#do for different masses when doing dark disk (milky way disk, plus some modified version) vs virialized semi-isothermal distribution\n",
    "\n",
    "v_c = 220*u.km/u.s #different?\n",
    "R0 = 8500.0*u.parsec #galactic radius of earth\n",
    "\n",
    "def rE(m, x, L):\n",
    "    return np.sqrt(4*m*L*x*const.G*(1.0-x)/const.c**2).decompose()\n",
    "\n",
    "def t_hat(m):\n",
    "    return 130*np.sqrt(m/u.solMass)*u.day\n",
    "\n",
    "def argument_starmass(m,L,t,l,b,q,rho_baryon):\n",
    "    return m**-2.35*integrate.quad(dGdt_arg, 0.0, 1.0, args = (m,L,t,l,b,1.0,rho_baryon))[0]\n",
    " \n",
    "def expfac(m,x,L,t):\n",
    "    arg = -4*rE(m,x,L)**2/(t**2*v_c**2).decompose()\n",
    "    return np.exp(arg)\n",
    "\n",
    "def dGdt_arg(x,m,L,t,l,b,q,rhofunc):\n",
    "    tu = t*u.day\n",
    "    m = m*u.solMass\n",
    "    return (u.day**2*32.0*L*density(x,L,l,b,q,rhofunc)*rE(m,x,L)**4*expfac(m,x,L,tu)/(tu**4*m*v_c**2)).decompose()\n",
    "\n",
    "def dGdt(t,m,L,cutoff,l,b,q):\n",
    "    output_DM = integrate.quad(dGdt_arg, 0.0, 1.0, args = (m,L,t,l,b,q,rho_semis))[0]\n",
    "    \n",
    "    lowm = np.maximum(0.01,0.01*(t/130)**2)\n",
    "    highm = np.maximum(1,100*(t/130)**2)\n",
    "    print('halfway there')\n",
    "    #output_B = integrate.quad(argument_starmass, lowm, highm, args = (L,t,l,b,q,rho_baryon))[0]\n",
    "    output_B = integrate.quad(dGdt_arg, 0.0, 1.0, args = (0.36,L,t,l,b,1.0,rho_baryon))[0]\n",
    "    unc_B = np.sqrt(output_B)\n",
    "    req_B = unc_B #np.maximum(1.0,unc_B)\n",
    "    print(t, output_DM, output_B, unc_B, req_B)\n",
    "    return output_DM*(np.greater(t,cutoff)*np.sqrt(1000.0 +  t))/req_B #used to have *(1000.0 +  t)\n",
    "\n",
    "def N(m,L,cutoff,l,b,q, want_B):\n",
    "    L = L*1000*u.parsec #distance to the source, from kpc to pc\n",
    "    llim = np.log10(np.maximum(cutoff,10*np.sqrt(m)))\n",
    "    ulim = np.log10(np.maximum(cutoff*1000,10000*np.sqrt(m)))\n",
    "    #print(llim, ulim)\n",
    "    n = 30\n",
    "    T = np.logspace(llim, ulim, n)\n",
    "    N_B = np.logspace(llim, ulim, n)\n",
    "    N_D = np.logspace(llim, ulim, n)\n",
    "    rat = np.logspace(llim, ulim, n)\n",
    "    step = T - np.roll(T,1)\n",
    "    step[0] = 0\n",
    "    \n",
    "    i = 0\n",
    "    for t in T:\n",
    "        if want_B: N_B[i] = 17e9*integrate.quad(dGdt_arg, 0.0, 1.0, args = (0.36,R0,t,l,b,q,rho_baryon))[0]*(t+4400)*step[i] #use average sqrt(mass) insted of average mass\n",
    "        N_D[i] = 17e9*integrate.quad(dGdt_arg, 0.0, 1.0, args = (m,R0,t,l,b,q,rho_semis))[0]*(t+4400)*step[i]\n",
    "        if (N_B[i] < 1.0):\n",
    "            N_B[i] = 1.0\n",
    "        if (N_D[i] < 1.0):\n",
    "            N_D[i] = 1.0\n",
    "            \n",
    "        \n",
    "        if want_B: rat[i] =  N_D[i]/np.sqrt(N_B[i]) #get correct normalizations? Think of a grid\n",
    "        #print(t, N_B[i], N_D[i], rat[i])\n",
    "        i = i+1\n",
    "    if want_B: \n",
    "        chis = np.sqrt(np.sum(rat**2))\n",
    "    else:\n",
    "        chis = np.sqrt(np.sum(N_D**2))\n",
    "    \n",
    "    #plt.loglog(T, N_B, label = 'baryon')\n",
    "    #plt.loglog(T,N_D, label = 'DM')\n",
    "    #plt.loglog(T,np.sqrt(N_B), label = 'sqrt(B)')\n",
    "    #plt.loglog(T,rat, label = 'ND/sqrt(NB)')\n",
    "    #plt.loglog(T,step,label = 'stepsize')\n",
    "    #plt.legend()\n",
    "    \n",
    "    return chis"
   ]
  },
  {
   "cell_type": "code",
   "execution_count": null,
   "metadata": {},
   "outputs": [],
   "source": [
    "#def N(m,L,cutoff,l,b,q):\n",
    "#    L = L*1000*u.parsec\n",
    "#    llim = np.maximum(cutoff,10*np.sqrt(m))\n",
    "#    ulim = np.maximum(cutoff*100,1000*np.sqrt(m))\n",
    "#    output = integrate.quad(dGdt, llim, ulim,args = (m,L,cutoff,l,b,q))\n",
    "#    return output[0]#*1000"
   ]
  },
  {
   "cell_type": "code",
   "execution_count": 19,
   "metadata": {},
   "outputs": [],
   "source": [
    "def logsense(m,m0,mr):\n",
    "    return 1.0/(1.0 + (m/m0)**(-1.0/mr))\n",
    "\n",
    "hdu = fits.open('galaxy1.fits')\n",
    "data = hdu[1].data    "
   ]
  },
  {
   "cell_type": "code",
   "execution_count": 18,
   "metadata": {},
   "outputs": [
    {
     "ename": "NameError",
     "evalue": "name 'm' is not defined",
     "output_type": "error",
     "traceback": [
      "\u001b[0;31m---------------------------------------------------------------------------\u001b[0m",
      "\u001b[0;31mNameError\u001b[0m                                 Traceback (most recent call last)",
      "\u001b[0;32m<ipython-input-18-c3b7f6643cdc>\u001b[0m in \u001b[0;36m<module>\u001b[0;34m()\u001b[0m\n\u001b[1;32m      8\u001b[0m \u001b[0;34m\u001b[0m\u001b[0m\n\u001b[1;32m      9\u001b[0m \u001b[0;32mfor\u001b[0m \u001b[0ms\u001b[0m \u001b[0;32min\u001b[0m \u001b[0mdata\u001b[0m\u001b[0;34m[\u001b[0m\u001b[0;34m:\u001b[0m\u001b[0;34m:\u001b[0m\u001b[0mres\u001b[0m\u001b[0;34m]\u001b[0m\u001b[0;34m:\u001b[0m\u001b[0;34m\u001b[0m\u001b[0m\n\u001b[0;32m---> 10\u001b[0;31m     \u001b[0mNb\u001b[0m \u001b[0;34m=\u001b[0m \u001b[0mN\u001b[0m\u001b[0;34m(\u001b[0m\u001b[0mm\u001b[0m\u001b[0;34m,\u001b[0m\u001b[0ms\u001b[0m\u001b[0;34m[\u001b[0m\u001b[0;34m'rad'\u001b[0m\u001b[0;34m]\u001b[0m\u001b[0;34m,\u001b[0m \u001b[0mcutoff\u001b[0m\u001b[0;34m,\u001b[0m \u001b[0ms\u001b[0m\u001b[0;34m[\u001b[0m\u001b[0;34m'glon'\u001b[0m\u001b[0;34m]\u001b[0m\u001b[0;34m,\u001b[0m \u001b[0ms\u001b[0m\u001b[0;34m[\u001b[0m\u001b[0;34m'glat'\u001b[0m\u001b[0;34m]\u001b[0m\u001b[0;34m,\u001b[0m\u001b[0mq\u001b[0m\u001b[0;34m)\u001b[0m\u001b[0;34m\u001b[0m\u001b[0m\n\u001b[0m\u001b[1;32m     11\u001b[0m     \u001b[0mB_rate\u001b[0m \u001b[0;34m=\u001b[0m \u001b[0mnp\u001b[0m\u001b[0;34m.\u001b[0m\u001b[0mappend\u001b[0m\u001b[0;34m(\u001b[0m\u001b[0mB_rate\u001b[0m\u001b[0;34m,\u001b[0m \u001b[0mNb\u001b[0m\u001b[0;34m)\u001b[0m\u001b[0;34m\u001b[0m\u001b[0m\n\u001b[1;32m     12\u001b[0m     \u001b[0mprint\u001b[0m\u001b[0;34m(\u001b[0m\u001b[0;34m'done for another source.'\u001b[0m\u001b[0;34m)\u001b[0m\u001b[0;34m\u001b[0m\u001b[0m\n",
      "\u001b[0;31mNameError\u001b[0m: name 'm' is not defined"
     ]
    }
   ],
   "source": [
    "#calculate baryonic microlensing rate for a bunch of the sources\n",
    "hdu = fits.open('galaxy1.fits')\n",
    "data = hdu[1].data    \n",
    "\n",
    "N_sources = 10\n",
    "res = np.int(data.size/N_sources)\n",
    "B_rate = np.array([])\n",
    "\n",
    "for s in data[::res]:\n",
    "    Nb = N(m,s['rad'], cutoff, s['glon'], s['glat'],q)\n",
    "    B_rate = np.append(B_rate, Nb)\n",
    "    print('done for another source.')\n",
    "    "
   ]
  },
  {
   "cell_type": "code",
   "execution_count": 17,
   "metadata": {},
   "outputs": [
    {
     "ename": "FileNotFoundError",
     "evalue": "[Errno 2] No such file or directory: '../GalaxiaData/LSST.fits'",
     "output_type": "error",
     "traceback": [
      "\u001b[0;31m---------------------------------------------------------------------------\u001b[0m",
      "\u001b[0;31mFileNotFoundError\u001b[0m                         Traceback (most recent call last)",
      "\u001b[0;32m<ipython-input-17-aae71279d0ba>\u001b[0m in \u001b[0;36m<module>\u001b[0;34m()\u001b[0m\n\u001b[0;32m----> 1\u001b[0;31m \u001b[0mhdu\u001b[0m \u001b[0;34m=\u001b[0m \u001b[0mfits\u001b[0m\u001b[0;34m.\u001b[0m\u001b[0mopen\u001b[0m\u001b[0;34m(\u001b[0m\u001b[0;34m'../GalaxiaData/LSST.fits'\u001b[0m\u001b[0;34m)\u001b[0m\u001b[0;34m\u001b[0m\u001b[0m\n\u001b[0m\u001b[1;32m      2\u001b[0m \u001b[0mdata\u001b[0m \u001b[0;34m=\u001b[0m \u001b[0mhdu\u001b[0m\u001b[0;34m[\u001b[0m\u001b[0;36m1\u001b[0m\u001b[0;34m]\u001b[0m\u001b[0;34m.\u001b[0m\u001b[0mdata\u001b[0m\u001b[0;34m\u001b[0m\u001b[0m\n\u001b[1;32m      3\u001b[0m \u001b[0;34m\u001b[0m\u001b[0m\n\u001b[1;32m      4\u001b[0m \u001b[0;32mdef\u001b[0m \u001b[0mN_looped\u001b[0m\u001b[0;34m(\u001b[0m\u001b[0mm\u001b[0m\u001b[0;34m,\u001b[0m\u001b[0mcutoff\u001b[0m\u001b[0;34m,\u001b[0m\u001b[0mN_sources\u001b[0m\u001b[0;34m,\u001b[0m\u001b[0mq\u001b[0m\u001b[0;34m)\u001b[0m\u001b[0;34m:\u001b[0m\u001b[0;34m\u001b[0m\u001b[0m\n\u001b[1;32m      5\u001b[0m     \u001b[0;31m#import LSST Sources from Galaxia\u001b[0m\u001b[0;34m\u001b[0m\u001b[0;34m\u001b[0m\u001b[0m\n",
      "\u001b[0;32m/usr/local/lib/python3.6/site-packages/astropy/io/fits/hdu/hdulist.py\u001b[0m in \u001b[0;36mfitsopen\u001b[0;34m(name, mode, memmap, save_backup, cache, lazy_load_hdus, **kwargs)\u001b[0m\n\u001b[1;32m    149\u001b[0m \u001b[0;34m\u001b[0m\u001b[0m\n\u001b[1;32m    150\u001b[0m     return HDUList.fromfile(name, mode, memmap, save_backup, cache,\n\u001b[0;32m--> 151\u001b[0;31m                             lazy_load_hdus, **kwargs)\n\u001b[0m\u001b[1;32m    152\u001b[0m \u001b[0;34m\u001b[0m\u001b[0m\n\u001b[1;32m    153\u001b[0m \u001b[0;34m\u001b[0m\u001b[0m\n",
      "\u001b[0;32m/usr/local/lib/python3.6/site-packages/astropy/io/fits/hdu/hdulist.py\u001b[0m in \u001b[0;36mfromfile\u001b[0;34m(cls, fileobj, mode, memmap, save_backup, cache, lazy_load_hdus, **kwargs)\u001b[0m\n\u001b[1;32m    388\u001b[0m         return cls._readfrom(fileobj=fileobj, mode=mode, memmap=memmap,\n\u001b[1;32m    389\u001b[0m                              \u001b[0msave_backup\u001b[0m\u001b[0;34m=\u001b[0m\u001b[0msave_backup\u001b[0m\u001b[0;34m,\u001b[0m \u001b[0mcache\u001b[0m\u001b[0;34m=\u001b[0m\u001b[0mcache\u001b[0m\u001b[0;34m,\u001b[0m\u001b[0;34m\u001b[0m\u001b[0m\n\u001b[0;32m--> 390\u001b[0;31m                              lazy_load_hdus=lazy_load_hdus, **kwargs)\n\u001b[0m\u001b[1;32m    391\u001b[0m \u001b[0;34m\u001b[0m\u001b[0m\n\u001b[1;32m    392\u001b[0m     \u001b[0;34m@\u001b[0m\u001b[0mclassmethod\u001b[0m\u001b[0;34m\u001b[0m\u001b[0m\n",
      "\u001b[0;32m/usr/local/lib/python3.6/site-packages/astropy/io/fits/hdu/hdulist.py\u001b[0m in \u001b[0;36m_readfrom\u001b[0;34m(cls, fileobj, data, mode, memmap, save_backup, cache, lazy_load_hdus, **kwargs)\u001b[0m\n\u001b[1;32m   1037\u001b[0m             \u001b[0;32mif\u001b[0m \u001b[0;32mnot\u001b[0m \u001b[0misinstance\u001b[0m\u001b[0;34m(\u001b[0m\u001b[0mfileobj\u001b[0m\u001b[0;34m,\u001b[0m \u001b[0m_File\u001b[0m\u001b[0;34m)\u001b[0m\u001b[0;34m:\u001b[0m\u001b[0;34m\u001b[0m\u001b[0m\n\u001b[1;32m   1038\u001b[0m                 \u001b[0;31m# instantiate a FITS file object (ffo)\u001b[0m\u001b[0;34m\u001b[0m\u001b[0;34m\u001b[0m\u001b[0m\n\u001b[0;32m-> 1039\u001b[0;31m                 \u001b[0mfileobj\u001b[0m \u001b[0;34m=\u001b[0m \u001b[0m_File\u001b[0m\u001b[0;34m(\u001b[0m\u001b[0mfileobj\u001b[0m\u001b[0;34m,\u001b[0m \u001b[0mmode\u001b[0m\u001b[0;34m=\u001b[0m\u001b[0mmode\u001b[0m\u001b[0;34m,\u001b[0m \u001b[0mmemmap\u001b[0m\u001b[0;34m=\u001b[0m\u001b[0mmemmap\u001b[0m\u001b[0;34m,\u001b[0m \u001b[0mcache\u001b[0m\u001b[0;34m=\u001b[0m\u001b[0mcache\u001b[0m\u001b[0;34m)\u001b[0m\u001b[0;34m\u001b[0m\u001b[0m\n\u001b[0m\u001b[1;32m   1040\u001b[0m             \u001b[0;31m# The Astropy mode is determined by the _File initializer if the\u001b[0m\u001b[0;34m\u001b[0m\u001b[0;34m\u001b[0m\u001b[0m\n\u001b[1;32m   1041\u001b[0m             \u001b[0;31m# supplied mode was None\u001b[0m\u001b[0;34m\u001b[0m\u001b[0;34m\u001b[0m\u001b[0m\n",
      "\u001b[0;32m/usr/local/lib/python3.6/site-packages/astropy/utils/decorators.py\u001b[0m in \u001b[0;36mwrapper\u001b[0;34m(*args, **kwargs)\u001b[0m\n\u001b[1;32m    519\u001b[0m                             \u001b[0mkwargs\u001b[0m\u001b[0;34m[\u001b[0m\u001b[0mnew_name\u001b[0m\u001b[0;34m[\u001b[0m\u001b[0mi\u001b[0m\u001b[0;34m]\u001b[0m\u001b[0;34m]\u001b[0m \u001b[0;34m=\u001b[0m \u001b[0mvalue\u001b[0m\u001b[0;34m\u001b[0m\u001b[0m\n\u001b[1;32m    520\u001b[0m \u001b[0;34m\u001b[0m\u001b[0m\n\u001b[0;32m--> 521\u001b[0;31m             \u001b[0;32mreturn\u001b[0m \u001b[0mfunction\u001b[0m\u001b[0;34m(\u001b[0m\u001b[0;34m*\u001b[0m\u001b[0margs\u001b[0m\u001b[0;34m,\u001b[0m \u001b[0;34m**\u001b[0m\u001b[0mkwargs\u001b[0m\u001b[0;34m)\u001b[0m\u001b[0;34m\u001b[0m\u001b[0m\n\u001b[0m\u001b[1;32m    522\u001b[0m \u001b[0;34m\u001b[0m\u001b[0m\n\u001b[1;32m    523\u001b[0m         \u001b[0;32mreturn\u001b[0m \u001b[0mwrapper\u001b[0m\u001b[0;34m\u001b[0m\u001b[0m\n",
      "\u001b[0;32m/usr/local/lib/python3.6/site-packages/astropy/io/fits/file.py\u001b[0m in \u001b[0;36m__init__\u001b[0;34m(self, fileobj, mode, memmap, overwrite, cache)\u001b[0m\n\u001b[1;32m    176\u001b[0m             \u001b[0mself\u001b[0m\u001b[0;34m.\u001b[0m\u001b[0m_open_fileobj\u001b[0m\u001b[0;34m(\u001b[0m\u001b[0mfileobj\u001b[0m\u001b[0;34m,\u001b[0m \u001b[0mmode\u001b[0m\u001b[0;34m,\u001b[0m \u001b[0moverwrite\u001b[0m\u001b[0;34m)\u001b[0m\u001b[0;34m\u001b[0m\u001b[0m\n\u001b[1;32m    177\u001b[0m         \u001b[0;32melif\u001b[0m \u001b[0misinstance\u001b[0m\u001b[0;34m(\u001b[0m\u001b[0mfileobj\u001b[0m\u001b[0;34m,\u001b[0m \u001b[0mstr\u001b[0m\u001b[0;34m)\u001b[0m\u001b[0;34m:\u001b[0m\u001b[0;34m\u001b[0m\u001b[0m\n\u001b[0;32m--> 178\u001b[0;31m             \u001b[0mself\u001b[0m\u001b[0;34m.\u001b[0m\u001b[0m_open_filename\u001b[0m\u001b[0;34m(\u001b[0m\u001b[0mfileobj\u001b[0m\u001b[0;34m,\u001b[0m \u001b[0mmode\u001b[0m\u001b[0;34m,\u001b[0m \u001b[0moverwrite\u001b[0m\u001b[0;34m)\u001b[0m\u001b[0;34m\u001b[0m\u001b[0m\n\u001b[0m\u001b[1;32m    179\u001b[0m         \u001b[0;32melse\u001b[0m\u001b[0;34m:\u001b[0m\u001b[0;34m\u001b[0m\u001b[0m\n\u001b[1;32m    180\u001b[0m             \u001b[0mself\u001b[0m\u001b[0;34m.\u001b[0m\u001b[0m_open_filelike\u001b[0m\u001b[0;34m(\u001b[0m\u001b[0mfileobj\u001b[0m\u001b[0;34m,\u001b[0m \u001b[0mmode\u001b[0m\u001b[0;34m,\u001b[0m \u001b[0moverwrite\u001b[0m\u001b[0;34m)\u001b[0m\u001b[0;34m\u001b[0m\u001b[0m\n",
      "\u001b[0;32m/usr/local/lib/python3.6/site-packages/astropy/io/fits/file.py\u001b[0m in \u001b[0;36m_open_filename\u001b[0;34m(self, filename, mode, overwrite)\u001b[0m\n\u001b[1;32m    553\u001b[0m \u001b[0;34m\u001b[0m\u001b[0m\n\u001b[1;32m    554\u001b[0m         \u001b[0;32mif\u001b[0m \u001b[0;32mnot\u001b[0m \u001b[0mself\u001b[0m\u001b[0;34m.\u001b[0m\u001b[0m_try_read_compressed\u001b[0m\u001b[0;34m(\u001b[0m\u001b[0mself\u001b[0m\u001b[0;34m.\u001b[0m\u001b[0mname\u001b[0m\u001b[0;34m,\u001b[0m \u001b[0mmagic\u001b[0m\u001b[0;34m,\u001b[0m \u001b[0mmode\u001b[0m\u001b[0;34m,\u001b[0m \u001b[0mext\u001b[0m\u001b[0;34m=\u001b[0m\u001b[0mext\u001b[0m\u001b[0;34m)\u001b[0m\u001b[0;34m:\u001b[0m\u001b[0;34m\u001b[0m\u001b[0m\n\u001b[0;32m--> 555\u001b[0;31m             \u001b[0mself\u001b[0m\u001b[0;34m.\u001b[0m\u001b[0m_file\u001b[0m \u001b[0;34m=\u001b[0m \u001b[0mfileobj_open\u001b[0m\u001b[0;34m(\u001b[0m\u001b[0mself\u001b[0m\u001b[0;34m.\u001b[0m\u001b[0mname\u001b[0m\u001b[0;34m,\u001b[0m \u001b[0mIO_FITS_MODES\u001b[0m\u001b[0;34m[\u001b[0m\u001b[0mmode\u001b[0m\u001b[0;34m]\u001b[0m\u001b[0;34m)\u001b[0m\u001b[0;34m\u001b[0m\u001b[0m\n\u001b[0m\u001b[1;32m    556\u001b[0m             \u001b[0mself\u001b[0m\u001b[0;34m.\u001b[0m\u001b[0mclose_on_error\u001b[0m \u001b[0;34m=\u001b[0m \u001b[0;32mTrue\u001b[0m\u001b[0;34m\u001b[0m\u001b[0m\n\u001b[1;32m    557\u001b[0m \u001b[0;34m\u001b[0m\u001b[0m\n",
      "\u001b[0;32m/usr/local/lib/python3.6/site-packages/astropy/io/fits/util.py\u001b[0m in \u001b[0;36mfileobj_open\u001b[0;34m(filename, mode)\u001b[0m\n\u001b[1;32m    386\u001b[0m     \"\"\"\n\u001b[1;32m    387\u001b[0m \u001b[0;34m\u001b[0m\u001b[0m\n\u001b[0;32m--> 388\u001b[0;31m     \u001b[0;32mreturn\u001b[0m \u001b[0mopen\u001b[0m\u001b[0;34m(\u001b[0m\u001b[0mfilename\u001b[0m\u001b[0;34m,\u001b[0m \u001b[0mmode\u001b[0m\u001b[0;34m,\u001b[0m \u001b[0mbuffering\u001b[0m\u001b[0;34m=\u001b[0m\u001b[0;36m0\u001b[0m\u001b[0;34m)\u001b[0m\u001b[0;34m\u001b[0m\u001b[0m\n\u001b[0m\u001b[1;32m    389\u001b[0m \u001b[0;34m\u001b[0m\u001b[0m\n\u001b[1;32m    390\u001b[0m \u001b[0;34m\u001b[0m\u001b[0m\n",
      "\u001b[0;31mFileNotFoundError\u001b[0m: [Errno 2] No such file or directory: '../GalaxiaData/LSST.fits'"
     ]
    }
   ],
   "source": [
    "hdu = fits.open('../GalaxiaData/LSST.fits')\n",
    "data = hdu[1].data    \n",
    "\n",
    "def N_looped(m,cutoff,N_sources,q):\n",
    "    #import LSST Sources from Galaxia\n",
    "    res = np.int(data.size/N_sources)\n",
    "    N_ev = 0\n",
    "    for s in data[::res]:\n",
    "        N_ev = N_ev + N(m,s['rad'], cutoff, s['glon'], s['glat'],q)\n",
    "        print('done for another source.')\n",
    "    return N_ev*1e9/N_sources"
   ]
  },
  {
   "cell_type": "code",
   "execution_count": 9,
   "metadata": {},
   "outputs": [],
   "source": [
    "#np.savetxt('sphericallity_1source.txt', result_array_qc)\n",
    "#np.savetxt('sphericallity_10source.txt', result_array_q10)\n",
    "#np.savetxt('sphericallity_10source.txt', result_array_q10)\n",
    "\n",
    "result_array_q = np.loadtxt('sphericallity_5source.txt')\n",
    "result_array_qc = np.loadtxt('sphericallity_1source.txt')\n",
    "result_array_q10 = np.loadtxt('sphericallity_10source.txt')"
   ]
  },
  {
   "cell_type": "code",
   "execution_count": 21,
   "metadata": {},
   "outputs": [
    {
     "name": "stdout",
     "output_type": "stream",
     "text": [
      "0.01 646270.1227774947\n",
      "0.12 53855.843881582245\n",
      "0.23 28098.701155608127\n",
      "0.34 19007.944899381968\n",
      "0.45 14361.558368421933\n",
      "0.56 11540.537974624765\n",
      "0.67 9645.822784761\n",
      "0.78 8285.514443320346\n",
      "0.89 7261.462096393112\n",
      "1.0 6462.7012657898695\n"
     ]
    }
   ],
   "source": [
    "Q = np.linspace(0.01,1,num = 10)\n",
    "result_array_qc = np.array([])\n",
    "for q in Q:\n",
    "    n = 1e9*N(1.0,8.5,1.0,0.0,0.0,q)\n",
    "    result = (q,n)\n",
    "    result_array_qc = np.append(result_array_qc, result)\n",
    "    print(q,n)"
   ]
  },
  {
   "cell_type": "code",
   "execution_count": 57,
   "metadata": {},
   "outputs": [
    {
     "name": "stdout",
     "output_type": "stream",
     "text": [
      "558.8182153706074\n"
     ]
    }
   ],
   "source": [
    "n_newBaryon = N(1.0,8.5,1.0,0.0,0.0,1.0, True)\n",
    "print(n_newBaryon)\n"
   ]
  },
  {
   "cell_type": "code",
   "execution_count": 46,
   "metadata": {},
   "outputs": [
    {
     "name": "stdout",
     "output_type": "stream",
     "text": [
      "0.0001 204778.38487326188 340963.97119239345 15.81917405128479\n",
      "0.0002872984833353666 398171.4500092309 660479.1470564423 15.57265567779541\n",
      "0.0008254041852680181 414573.7383390792 680315.1035435317 15.627584218978882\n",
      "0.0023713737056616554 181645.2714647061 295050.8666038173 15.589418649673462\n",
      "0.006812920690579608 57018.27322485963 93369.06065514404 16.077709436416626\n",
      "0.019573417814876596 15175.589686182677 26010.183375530454 15.50469446182251\n",
      "0.05623413251903491 4063.248918810835 8151.528750249396 15.084186553955078\n",
      "0.1615598098439873 1152.6732496213046 3601.065863439158 13.983020782470703\n",
      "0.46415888336127775 579.7411299210269 2839.570036350131 13.529995203018188\n",
      "1.333521432163324 576.2573964477152 3158.626831992545 12.665688514709473\n",
      "3.831186849557285 700.4854113918273 3929.46981982227 12.820713996887207\n",
      "11.00694171252208 901.8831448375665 5049.739363787893 12.247986555099487\n",
      "31.622776601683793 1190.5859040606508 6405.784436710588 14.463681697845459\n",
      "90.85175756516861 1600.4164617882295 7399.757970750536 12.366721868515015\n",
      "261.0157215682533 2189.4040857921295 6704.784450835951 12.072131395339966\n",
      "749.8942093324558 3031.794035917969 4724.185161483802 12.221840858459473\n",
      "2154.4346900318824 4129.095215944758 3295.709864631493 11.97992491722107\n",
      "6189.658188912597 5095.964622920621 2454.4197733342635 12.619841575622559\n",
      "17782.794100389227 4992.582210309528 1962.4697863249582 13.068345308303833\n",
      "51089.69774506914 4340.802992344615 1675.2639061572797 12.228381633758545\n",
      "146779.92676220674 3904.5577381175476 1507.5371887773215 12.073112964630127\n",
      "421696.5034285823 3648.608727348591 1409.414683797836 13.116034746170044\n",
      "1211527.658628585 3498.5490862817464 1351.8836605287825 12.31739616394043\n",
      "3480700.588428406 3410.3964698198283 1318.0846195868457 12.210054159164429\n",
      "10000000.0 3358.5318765518014 1298.1980032550962 12.863032102584839\n"
     ]
    }
   ],
   "source": [
    "M = np.logspace(-4, 7, num = 25)\n",
    "result_array_bar = np.array([])\n",
    "cutoff = 1\n",
    "nstars = 1.0e9\n",
    "for m in M:\n",
    "    start = time.time()\n",
    "    n_cor = N(m,8.5,1.0,0.0,0.0,1.0, True)\n",
    "    n_lmc = N(m,50,1.0,280,-32,1.0, True)\n",
    "    result = (m,n_cor, n_lmc)\n",
    "    #plt.scatter(m,n, c = 'g')\n",
    "    result_array_bar = np.append(result_array_bar, result)\n",
    "    end = time.time()\n",
    "    tim = end - start\n",
    "    print(m,n_cor, n_lmc,tim)\n",
    "\n",
    "np.savetxt('basic_constraints_bar.txt', result_array_bar)\n"
   ]
  },
  {
   "cell_type": "code",
   "execution_count": 54,
   "metadata": {},
   "outputs": [
    {
     "name": "stdout",
     "output_type": "stream",
     "text": [
      "0.0001 3217889.39488471 1256904.2536829947 5.47785758972168\n",
      "0.0002872984833353666 6469746.273300671 2518593.8749863193 5.594858407974243\n",
      "0.0008254041852680181 7728519.7849703 2983866.858930156 6.4831647872924805\n",
      "0.0023713737056616554 5155392.335177498 1976832.2140623042 7.0677244663238525\n",
      "0.006812920690579608 3053116.19263805 1170006.96365273 7.04031777381897\n",
      "0.019573417814876596 1802658.9027543212 690803.0385322875 6.944941282272339\n",
      "0.05623413251903491 1064780.1756287403 408042.617326721 7.834611654281616\n",
      "0.1615598098439873 629450.7438548256 241221.25731703063 7.031805992126465\n",
      "0.46415888336127775 372617.9203928172 142801.07922345487 6.574849843978882\n",
      "1.333521432163324 221093.90139456026 84735.99217649293 7.35538125038147\n",
      "3.831186849557285 131699.9555650767 50479.59756058974 6.800562143325806\n",
      "11.00694171252208 78962.06345363145 30270.06980749116 6.532358407974243\n",
      "31.622776601683793 47851.692227699976 18348.369143094922 6.479923248291016\n",
      "90.85175756516861 29503.0294950396 11317.054274281074 6.518507242202759\n",
      "261.0157215682533 18686.120511698235 7171.968846045892 6.734537124633789\n",
      "749.8942093324558 12315.696383631766 4730.811019336787 6.754626035690308\n",
      "2154.4346900318824 8570.826434273842 3295.7763192105554 6.691163063049316\n",
      "6189.658188912597 6375.246492613864 2454.4197733342635 6.652780771255493\n",
      "17782.794100389227 5091.529510079962 1962.4697863249582 6.858733415603638\n",
      "51089.69774506914 4342.150314394724 1675.2639061572797 6.587797164916992\n",
      "146779.92676220674 3904.56930247893 1507.5371887773215 6.736421585083008\n",
      "421696.5034285823 3648.608727348591 1409.414683797836 6.555966138839722\n",
      "1211527.658628585 3498.5490862817464 1351.8836605287825 6.561493158340454\n",
      "3480700.588428406 3410.3964698198283 1318.0846195868457 6.645487546920776\n",
      "10000000.0 3358.5318765518014 1298.1980032550962 6.565427780151367\n"
     ]
    }
   ],
   "source": [
    "M = np.logspace(-4, 7, num = 25)\n",
    "result_array_nobar = np.array([])\n",
    "cutoff = 1\n",
    "nstars = 1.0e9\n",
    "for m in M:\n",
    "    start = time.time()\n",
    "    n_cor = N(m,8.5,1.0,0.0,0.0,1.0, False)\n",
    "    n_lmc = N(m,50,1.0,280,-32,1.0, False)\n",
    "    result = (m,n_cor, n_lmc)\n",
    "    #plt.scatter(m,n, c = 'g')\n",
    "    result_array_nobar = np.append(result_array_nobar, result)\n",
    "    end = time.time()\n",
    "    tim = end - start\n",
    "    print(m,n_cor, n_lmc,tim)\n",
    "\n",
    "np.savetxt('basic_constraints_nobar.txt', result_array_nobar)\n"
   ]
  },
  {
   "cell_type": "code",
   "execution_count": 5,
   "metadata": {},
   "outputs": [
    {
     "data": {
      "image/png": "[encoded data removed]",
      "text/plain": [
       "<Figure size 432x288 with 1 Axes>"
      ]
     },
     "metadata": {
      "needs_background": "light"
     },
     "output_type": "display_data"
    }
   ],
   "source": [
    "result_array = np.loadtxt('basic_constraints_bar.txt')\n",
    "m = result_array[0::3]\n",
    "f_cor = 1.0/result_array[1::3]\n",
    "f_lmc = 1.0/result_array[2::3]\n",
    "\n",
    "result_array = np.loadtxt('basic_constraints_nobar.txt')\n",
    "m = result_array[0::3]\n",
    "fn_cor = 1.0/result_array[1::3]\n",
    "fn_lmc = 1.0/result_array[2::3]\n",
    "\n",
    "plt.loglog(m,f_cor/logsense(m,1e-2,0.5), c = 'r', label = \"Sources in core\")#, label = 'More Massive Halo')\n",
    "plt.loglog(m,fn_cor/logsense(m,1e-2,0.5), 'r--')#, label = 'More Massive Halo')\n",
    "\n",
    "plt.loglog(m,f_lmc/logsense(m,1e-2,0.5), c = 'b', label = \"Sources in LMC\")#, label = 'More Massive Halo')\n",
    "plt.loglog(m,fn_lmc/logsense(m,1e-2,0.5), 'b--')#, label = 'More Massive Halo')\n",
    "\n",
    "plt.loglog([],[], 'k', label = \"With baryons\")\n",
    "plt.loglog([],[], 'k--', label = \"Without baryons\")\n",
    "\n",
    "plt.legend()\n",
    "plt.xlabel('Mass')\n",
    "plt.ylabel('$f_{DM}$')\n",
    "\n",
    "plt.savefig('fdm_variable_baryonic_microlensing_cor_vs_lmc.svg')"
   ]
  },
  {
   "cell_type": "code",
   "execution_count": 30,
   "metadata": {},
   "outputs": [
    {
     "name": "stdout",
     "output_type": "stream",
     "text": [
      "1.0 0.00022854380887586727\n",
      "1.4384498882876628 0.2924089456300632\n",
      "2.0691380811147897 6.249007598789051\n",
      "2.976351441631318 10.730571890188532\n",
      "4.281332398719393 7.978828138377608\n",
      "6.158482110660264 14.12059947115071\n",
      "8.858667904100825 20.609598903972906\n",
      "12.742749857031335 30.60323812877771\n",
      "18.329807108324356 48.651283679884465\n",
      "26.366508987303583 118.68797642069377\n",
      "37.926901907322495 280.28127044699283\n",
      "54.55594781168517 357.676797106897\n",
      "78.47599703514611 288.0442272681465\n",
      "112.88378916846884 181.17146126833455\n",
      "162.3776739188721 101.00257218766245\n",
      "233.57214690901213 53.33265721233614\n",
      "335.9818286283781 27.59910741716717\n",
      "483.2930238571752 14.249690228326104\n",
      "695.1927961775606 7.41151334917931\n",
      "1000.0 3.9032134927414854\n",
      "133.15331569575926 78.62981258495287\n"
     ]
    },
    {
     "data": {
      "image/png": "[encoded data removed]",
      "text/plain": [
       "<Figure size 432x288 with 1 Axes>"
      ]
     },
     "metadata": {
      "needs_background": "light"
     },
     "output_type": "display_data"
    }
   ],
   "source": [
    "#n_newBaryon = 1e9*N(1.0,8.5,1.0,0.0,0.0,1.0)\n",
    "#print(n_newBaryon)\n",
    "\n",
    "def xi(m):\n",
    "    return m**-2.35\n",
    "R0 = 8500*u.parsec\n",
    "\n",
    "def argument_starmass(m,t):\n",
    "    return m**-2.35*integrate.quad(dGdt_arg, 0.0, 1.0, args = (m,R0,t,0.0,0.0,1.0,rho_baryon))[0]*t\n",
    "    \n",
    "n = 20\n",
    "T = np.logspace(0,3,n)\n",
    "N_B = np.logspace(0,3,n)\n",
    "N_D = np.logspace(0,3,n)\n",
    "rat = np.logspace(0,3,n)\n",
    "\n",
    "i = 0\n",
    "for t in T:\n",
    "    lowm = np.maximum(0.01,0.01*(t/130)**2)\n",
    "    highm = np.maximum(1,100*(t/130)**2)\n",
    "    #N_B[i] = 17e9*integrate.quad(argument_starmass, lowm, highm, args = (t))[0]\n",
    "    N_B[i] = 17e9*integrate.quad(dGdt_arg, 0.0, 1.0, args = (0.36,R0,t,0.0,0.0,1.0,rho_baryon))[0]*(t+1000)\n",
    "    N_D[i] = 17e9*integrate.quad(dGdt_arg, 0.0, 1.0, args = (1.0,R0,t,0.0,0.0,1.0,rho_semis))[0]*(t+1000)\n",
    "    rat[i] =  N_D[i]/np.sqrt(N_B[i])\n",
    "    print(t,rat[i])\n",
    "    i = i+1\n",
    "    \n",
    "plt.loglog(T,N_B)\n",
    "plt.loglog(T,N_D)\n",
    "\n",
    "chis = np.sqrt(np.sum(np.power(rat,2))/n)\n",
    "ssn = np.sum(rat)/n\n",
    "print(chis, ssn)"
   ]
  },
  {
   "cell_type": "code",
   "execution_count": 23,
   "metadata": {},
   "outputs": [
    {
     "name": "stdout",
     "output_type": "stream",
     "text": [
      "done for another source.\n",
      "done for another source.\n",
      "done for another source.\n",
      "done for another source.\n",
      "done for another source.\n",
      "done for another source.\n",
      "0.01 1622.4258218246362\n",
      "done for another source.\n",
      "done for another source.\n",
      "done for another source.\n",
      "done for another source.\n",
      "done for another source.\n",
      "done for another source.\n",
      "0.12 6244.1160214833635\n",
      "done for another source.\n",
      "done for another source.\n",
      "done for another source.\n",
      "done for another source.\n",
      "done for another source.\n",
      "done for another source.\n",
      "0.23 7406.215626149639\n",
      "done for another source.\n",
      "done for another source.\n",
      "done for another source.\n",
      "done for another source.\n",
      "done for another source.\n",
      "done for another source.\n",
      "0.34 7771.291821943458\n",
      "done for another source.\n",
      "done for another source.\n",
      "done for another source.\n",
      "done for another source.\n",
      "done for another source.\n",
      "done for another source.\n",
      "0.45 7815.241044507525\n",
      "done for another source.\n",
      "done for another source.\n",
      "done for another source.\n",
      "done for another source.\n",
      "done for another source.\n",
      "done for another source.\n",
      "0.56 7709.423507040682\n",
      "done for another source.\n",
      "done for another source.\n",
      "done for another source.\n",
      "done for another source.\n",
      "done for another source.\n",
      "done for another source.\n",
      "0.67 7529.311236887707\n",
      "done for another source.\n",
      "done for another source.\n",
      "done for another source.\n",
      "done for another source.\n",
      "done for another source.\n",
      "done for another source.\n",
      "0.78 7311.910567330511\n",
      "done for another source.\n",
      "done for another source.\n",
      "done for another source.\n",
      "done for another source.\n",
      "done for another source.\n",
      "done for another source.\n",
      "0.89 7076.79121496053\n",
      "done for another source.\n",
      "done for another source.\n",
      "done for another source.\n",
      "done for another source.\n",
      "done for another source.\n",
      "done for another source.\n",
      "1.0 6834.966853777465\n"
     ]
    }
   ],
   "source": [
    "Q = np.linspace(0.01,1,num = 10)\n",
    "result_array_q5 = np.array([])\n",
    "for q in Q:\n",
    "    n = N_looped(1.0,1.0,5,q)\n",
    "    result = (q,n)\n",
    "    result_array_q5 = np.append(result_array_q5, result)\n",
    "    print(q,n)\n",
    "    \n",
    "np.savetxt('sphericallity_5source.txt', result_array_q5)\n"
   ]
  },
  {
   "cell_type": "code",
   "execution_count": 57,
   "metadata": {},
   "outputs": [
    {
     "data": {
      "text/plain": [
       "0.0002044767950099808"
      ]
     },
     "execution_count": 57,
     "metadata": {},
     "output_type": "execute_result"
    }
   ],
   "source": [
    "nq10[-1]"
   ]
  },
  {
   "cell_type": "code",
   "execution_count": 29,
   "metadata": {},
   "outputs": [
    {
     "data": {
      "image/png": "[encoded data removed]",
      "text/plain": [
       "<Figure size 360x360 with 1 Axes>"
      ]
     },
     "metadata": {
      "needs_background": "light"
     },
     "output_type": "display_data"
    }
   ],
   "source": [
    "q5 = result_array_q5[0::2]\n",
    "nq5 = 1.0/result_array_q5[1::2]\n",
    "\n",
    "qc = result_array_qc[0::2]\n",
    "nqc = 1.0/result_array_qc[1::2]\n",
    "\n",
    "q10 = result_array_q10[0::2]\n",
    "nq10 = 1.0/result_array_q10[1::2]\n",
    "\n",
    "#q20 = result_array_q20[0::2]\n",
    "#nq20 = 1.0/result_array_q20[1::2]\n",
    "\n",
    "plt.figure(figsize = [5,5])\n",
    "plt.plot(qc,nqc, c = 'r', label = 'using 1 bulge line of sight')\n",
    "plt.plot(q5,nq5, c = 'b', label = 'using 5 LSST lines of sight')\n",
    "plt.plot(q10,nq10, c = 'g', label = 'using 10 LSST lines of sight')\n",
    "#plt.plot(q20,nq20, c = 'm', label = 'using 20 LSST Sources')\n",
    "#plt.ylim(1e-7,1)\n",
    "#plt.xlim(0.5,120)\n",
    "#plt.xscale('log')\n",
    "plt.yscale('log')\n",
    "plt.ylim(1e-6,1e-3)\n",
    "plt.legend()\n",
    "plt.xlabel('Sphericality')\n",
    "plt.ylabel('Maximum $f_{DM}$, for $m = 1 M_\\odot$')\n",
    "plt.savefig('sphericality_constraints.svg')"
   ]
  },
  {
   "cell_type": "code",
   "execution_count": 43,
   "metadata": {},
   "outputs": [
    {
     "name": "stdout",
     "output_type": "stream",
     "text": [
      "done for another source.\n",
      "done for another source.\n",
      "done for another source.\n",
      "done for another source.\n",
      "done for another source.\n",
      "done for another source.\n",
      "0.0001 2767.6311581562168 78.21312427520752\n",
      "done for another source.\n",
      "done for another source.\n",
      "done for another source.\n",
      "done for another source.\n",
      "done for another source.\n",
      "done for another source.\n",
      "0.00046415888336127773 5952.6641847376795 89.11737608909607\n",
      "done for another source.\n",
      "done for another source.\n",
      "done for another source.\n",
      "done for another source.\n",
      "done for another source.\n",
      "done for another source.\n",
      "0.002154434690031882 6829.308224746399 108.31378388404846\n",
      "done for another source.\n",
      "done for another source.\n",
      "done for another source.\n",
      "done for another source.\n",
      "done for another source.\n",
      "done for another source.\n",
      "0.01 6834.9668492482115 117.29126596450806\n",
      "done for another source.\n",
      "done for another source.\n",
      "done for another source.\n",
      "done for another source.\n",
      "done for another source.\n",
      "done for another source.\n",
      "0.046415888336127774 6834.966853777465 117.14539742469788\n",
      "done for another source.\n",
      "done for another source.\n",
      "done for another source.\n",
      "done for another source.\n",
      "done for another source.\n",
      "done for another source.\n",
      "0.21544346900318823 6834.966853777463 111.33209800720215\n",
      "done for another source.\n",
      "done for another source.\n",
      "done for another source.\n",
      "done for another source.\n",
      "done for another source.\n",
      "done for another source.\n",
      "1.0 6834.966853777465 109.97276973724365\n",
      "done for another source.\n",
      "done for another source.\n",
      "done for another source.\n",
      "done for another source.\n",
      "done for another source.\n",
      "done for another source.\n",
      "4.641588833612772 6834.966853777465 110.91875553131104\n",
      "done for another source.\n",
      "done for another source.\n",
      "done for another source.\n",
      "done for another source.\n",
      "done for another source.\n",
      "done for another source.\n",
      "21.54434690031882 6834.966853777463 114.00059914588928\n",
      "done for another source.\n",
      "done for another source.\n",
      "done for another source.\n",
      "done for another source.\n",
      "done for another source.\n",
      "done for another source.\n",
      "100.0 6834.966853777465 111.69454646110535\n"
     ]
    }
   ],
   "source": [
    "M = np.logspace(-4, 2, num = 10)\n",
    "result_array_l5 = np.array([])\n",
    "cutoff = 1\n",
    "nstars = 1.0e9\n",
    "for m in M:\n",
    "    start = time.time()\n",
    "    n = N_looped(m,cutoff,5)\n",
    "    result = (m,n)\n",
    "    #plt.scatter(m,n, c = 'g')\n",
    "    result_array_l5 = np.append(result_array_l5, result)\n",
    "    end = time.time()\n",
    "    tim = end - start\n",
    "    print(m,n,tim)"
   ]
  },
  {
   "cell_type": "code",
   "execution_count": 50,
   "metadata": {},
   "outputs": [
    {
     "name": "stdout",
     "output_type": "stream",
     "text": [
      "done for another source.\n",
      "done for another source.\n",
      "done for another source.\n",
      "done for another source.\n",
      "done for another source.\n",
      "done for another source.\n",
      "5 6834.966853777465 114.94016075134277\n",
      "done for another source.\n",
      "done for another source.\n",
      "done for another source.\n",
      "done for another source.\n",
      "done for another source.\n",
      "done for another source.\n",
      "done for another source.\n",
      "done for another source.\n",
      "done for another source.\n",
      "done for another source.\n",
      "done for another source.\n",
      "10 4890.530487585101 203.7508580684662\n",
      "done for another source.\n",
      "done for another source.\n",
      "done for another source.\n",
      "done for another source.\n",
      "done for another source.\n",
      "done for another source.\n",
      "done for another source.\n",
      "done for another source.\n",
      "done for another source.\n",
      "done for another source.\n",
      "done for another source.\n",
      "done for another source.\n",
      "done for another source.\n",
      "done for another source.\n",
      "done for another source.\n",
      "done for another source.\n",
      "done for another source.\n",
      "done for another source.\n",
      "done for another source.\n",
      "done for another source.\n",
      "done for another source.\n",
      "done for another source.\n",
      "done for another source.\n",
      "done for another source.\n",
      "done for another source.\n",
      "done for another source.\n",
      "done for another source.\n",
      "done for another source.\n",
      "done for another source.\n",
      "done for another source.\n",
      "done for another source.\n",
      "done for another source.\n",
      "done for another source.\n",
      "done for another source.\n",
      "done for another source.\n",
      "done for another source.\n",
      "done for another source.\n",
      "done for another source.\n",
      "done for another source.\n",
      "done for another source.\n",
      "done for another source.\n",
      "done for another source.\n",
      "done for another source.\n",
      "done for another source.\n",
      "done for another source.\n",
      "done for another source.\n",
      "done for another source.\n",
      "done for another source.\n",
      "done for another source.\n",
      "done for another source.\n",
      "done for another source.\n",
      "50 5680.230651976268 942.015721321106\n",
      "done for another source.\n",
      "done for another source.\n",
      "done for another source.\n",
      "done for another source.\n",
      "done for another source.\n",
      "done for another source.\n",
      "done for another source.\n",
      "done for another source.\n",
      "done for another source.\n",
      "done for another source.\n",
      "done for another source.\n",
      "done for another source.\n",
      "done for another source.\n",
      "done for another source.\n",
      "done for another source.\n",
      "done for another source.\n",
      "done for another source.\n",
      "done for another source.\n",
      "done for another source.\n",
      "done for another source.\n",
      "done for another source.\n",
      "done for another source.\n",
      "done for another source.\n",
      "done for another source.\n",
      "done for another source.\n",
      "done for another source.\n",
      "done for another source.\n",
      "done for another source.\n",
      "done for another source.\n",
      "done for another source.\n",
      "done for another source.\n",
      "done for another source.\n",
      "done for another source.\n",
      "done for another source.\n",
      "done for another source.\n",
      "done for another source.\n",
      "done for another source.\n",
      "done for another source.\n",
      "done for another source.\n",
      "done for another source.\n",
      "done for another source.\n",
      "done for another source.\n",
      "done for another source.\n",
      "done for another source.\n",
      "done for another source.\n",
      "done for another source.\n",
      "done for another source.\n",
      "done for another source.\n",
      "done for another source.\n",
      "done for another source.\n",
      "done for another source.\n",
      "done for another source.\n",
      "done for another source.\n",
      "done for another source.\n",
      "done for another source.\n",
      "done for another source.\n",
      "done for another source.\n",
      "done for another source.\n",
      "done for another source.\n",
      "done for another source.\n",
      "done for another source.\n",
      "done for another source.\n",
      "done for another source.\n",
      "done for another source.\n",
      "done for another source.\n",
      "done for another source.\n",
      "done for another source.\n",
      "done for another source.\n",
      "done for another source.\n",
      "done for another source.\n",
      "done for another source.\n",
      "done for another source.\n",
      "done for another source.\n",
      "done for another source.\n",
      "done for another source.\n",
      "done for another source.\n",
      "done for another source.\n",
      "done for another source.\n",
      "done for another source.\n",
      "done for another source.\n",
      "done for another source.\n",
      "done for another source.\n",
      "done for another source.\n",
      "done for another source.\n",
      "done for another source.\n",
      "done for another source.\n",
      "done for another source.\n",
      "done for another source.\n",
      "done for another source.\n",
      "done for another source.\n",
      "done for another source.\n",
      "done for another source.\n",
      "done for another source.\n",
      "done for another source.\n",
      "done for another source.\n",
      "done for another source.\n",
      "done for another source.\n",
      "done for another source.\n",
      "done for another source.\n",
      "done for another source.\n",
      "done for another source.\n",
      "100 5546.491719027825 1920.0007526874542\n"
     ]
    }
   ],
   "source": [
    "#loop over nuber of LSST sources\n",
    "\n",
    "nrange = [5,10,50,100]\n",
    "result_array_lv_realBaryon = np.array([])\n",
    "cutoff = 1\n",
    "nstars = 1.0e9\n",
    "for n in nrange:\n",
    "    start = time.time()\n",
    "    Num = N_looped(1.0,cutoff,n,1.0)\n",
    "    result = (n,Num)\n",
    "    #plt.scatter(m,n, c = 'g')\n",
    "    result_array_lv_realBaryon = np.append(result_array_lv_realBaryon, result)\n",
    "    end = time.time()\n",
    "    tim = end - start\n",
    "    print(n,Num,tim)"
   ]
  },
  {
   "cell_type": "code",
   "execution_count": 44,
   "metadata": {},
   "outputs": [
    {
     "data": {
      "image/png": "[encoded data removed]",
      "text/plain": [
       "<Figure size 504x360 with 1 Axes>"
      ]
     },
     "metadata": {
      "needs_background": "light"
     },
     "output_type": "display_data"
    }
   ],
   "source": [
    "mt = result_array_tau[0::2]\n",
    "ft = 1.0/result_array_tau[1::2]\n",
    "\n",
    "ml5 = result_array_l5[0::2]\n",
    "fl5 = 1.0/result_array_l5[1::2]\n",
    "\n",
    "plt.figure(figsize = [7,5])\n",
    "\n",
    "plt.plot(mt, ft/logsense(mt,1e-2,0.5), c = 'b', label = 'Single point in time, just calculated to core')#, label = 'More Massive Halo')\n",
    "plt.plot(ml5, fl5/logsense(ml5,1e-2,0.5), c = 'r', label = 'Single point in time, with 5 LSST sources')#, label = 'More Massive Halo')\n",
    "plt.ylim(1e-7,1)\n",
    "plt.xlim(1e-6,1e8)\n",
    "plt.xscale('log')\n",
    "plt.yscale('log')\n",
    "plt.xlabel('Object mass ($M_\\odot$)')\n",
    "plt.ylabel('Maximum $f_{DM}$')\n",
    "plt.legend()\n",
    "plt.tight_layout()"
   ]
  },
  {
   "cell_type": "code",
   "execution_count": 16,
   "metadata": {},
   "outputs": [],
   "source": [
    "#for i in data[::10]:\n",
    "#    print(i['rad'])"
   ]
  },
  {
   "cell_type": "code",
   "execution_count": 32,
   "metadata": {},
   "outputs": [
    {
     "data": {
      "text/plain": [
       "86186"
      ]
     },
     "execution_count": 32,
     "metadata": {},
     "output_type": "execute_result"
    }
   ],
   "source": [
    "data.size"
   ]
  },
  {
   "cell_type": "code",
   "execution_count": 13,
   "metadata": {},
   "outputs": [
    {
     "data": {
      "image/png": "[encoded data removed]",
      "text/plain": [
       "<Figure size 360x288 with 1 Axes>"
      ]
     },
     "metadata": {
      "needs_background": "light"
     },
     "output_type": "display_data"
    }
   ],
   "source": [
    "result_array_lv = np.loadtxt('result_array_lv.txt')\n",
    "\n",
    "nt = result_array_lv[0::2]\n",
    "ft = 1.0/result_array_lv[1::2]\n",
    "\n",
    "plt.figure(figsize = [5,4])\n",
    "plt.plot([1,120], [nqc[-1],nqc[-1]], c = 'r')\n",
    "plt.scatter(1,nqc[-1], c = 'r', label = 'Single line of sight to bulge')\n",
    "plt.scatter(nt,ft, c = 'b', label = 'Multiple lines of sight')\n",
    "plt.ylim(1e-4,1e-3)\n",
    "plt.xlim(1,120)\n",
    "plt.xscale('log')\n",
    "plt.yscale('log')\n",
    "plt.legend()\n",
    "plt.xlabel('Number of lines of sight')\n",
    "plt.ylabel('Maximum $f_{DM}$, for $m = 1 M_\\odot$')\n",
    "plt.tight_layout()\n",
    "plt.savefig('constraints_many_sources.svg')"
   ]
  },
  {
   "cell_type": "code",
   "execution_count": 53,
   "metadata": {},
   "outputs": [
    {
     "data": {
      "image/png": "[encoded data removed]",
      "text/plain": [
       "<Figure size 432x288 with 1 Axes>"
      ]
     },
     "metadata": {
      "needs_background": "light"
     },
     "output_type": "display_data"
    }
   ],
   "source": [
    "N_sources = 100\n",
    "res = np.int(data.size/N_sources)\n",
    "    \n",
    "for s in data[::res]:\n",
    "    plt.scatter(s['x'], s['z'])"
   ]
  },
  {
   "cell_type": "code",
   "execution_count": 11,
   "metadata": {},
   "outputs": [],
   "source": [
    "def shiftlon(glon):\n",
    "    return 360 - (glon + 180)%360"
   ]
  },
  {
   "cell_type": "code",
   "execution_count": 28,
   "metadata": {},
   "outputs": [
    {
     "data": {
      "image/png": "[encoded data removed]",
      "text/plain": [
       "<matplotlib.figure.Figure at 0x7f035c79d6a0>"
      ]
     },
     "metadata": {},
     "output_type": "display_data"
    }
   ],
   "source": [
    "#N_sources = 1000\n",
    "#res = np.int(data.size/N_sources)\n",
    "\n",
    "#for s in data[::res]:\n",
    "\n",
    "plt.figure(figsize = [10,4])\n",
    "\n",
    "plt.scatter(shiftlon(data['glon']), data['glat'], s = 1, color = '0.8', rasterized = True)\n",
    "\n",
    "\n",
    "N_sources = 100\n",
    "res = np.int(data.size/N_sources)\n",
    "for s in data[::res]:\n",
    "    plt.scatter(shiftlon(s['glon']), s['glat'], s = 4, color = 'c')\n",
    "\n",
    "N_sources = 50\n",
    "res = np.int(data.size/N_sources)\n",
    "for s in data[::res]:\n",
    "    plt.scatter(shiftlon(s['glon']), s['glat'], s = 6, color = 'm')\n",
    "\n",
    "N_sources = 20\n",
    "res = np.int(data.size/N_sources)\n",
    "for s in data[::res]:\n",
    "    plt.scatter(shiftlon(s['glon']), s['glat'], s = 8, color = 'y')\n",
    "\n",
    "N_sources = 10\n",
    "res = np.int(data.size/N_sources)\n",
    "for s in data[::res]:\n",
    "    plt.scatter(shiftlon(s['glon']), s['glat'], s = 10, color = 'g')\n",
    "\n",
    "N_sources = 5\n",
    "res = np.int(data.size/N_sources)\n",
    "for s in data[::res]:\n",
    "    plt.scatter(shiftlon(s['glon']), s['glat'], s = 12, color = 'b')\n",
    "    \n",
    "plt.scatter(shiftlon(0),0,s = 12, color = 'r', label = 'Single bulge source')\n",
    "plt.scatter(shiftlon(0),0,s = 12, color = 'b', label = '5 LSST sorces used')\n",
    "plt.scatter(shiftlon(0),0,s = 10, color = 'g', label = '10 LSST sources used')\n",
    "plt.scatter(shiftlon(0),0,s = 8, color = 'y', label = '20 LSST sources used')\n",
    "plt.scatter(shiftlon(0),0,s = 6, color = 'm', label = '50 LSST sources used')\n",
    "plt.scatter(shiftlon(0),0,s = 4, color = 'c', label = '100 LSST sources used')\n",
    "plt.scatter(shiftlon(0),0,s = 15, color = 'r')\n",
    "\n",
    "\n",
    "#ax = plt.axes()\n",
    "#ax.set_rastarized(True)\n",
    "\n",
    "plt.legend()\n",
    "\n",
    "plt.xlabel('Galactic Longitude')\n",
    "plt.ylabel('Galactic Lattitude')\n",
    "\n",
    "locs = np.arange(0,360,20)\n",
    "\n",
    "plt.xticks(shiftlon(locs), locs)\n",
    "plt.tight_layout()\n",
    "\n",
    "plt.savefig('figures/LSST_sample_sources.pdf')\n",
    "\n",
    "plt.show()"
   ]
  },
  {
   "cell_type": "code",
   "execution_count": 36,
   "metadata": {},
   "outputs": [
    {
     "data": {
      "text/plain": [
       "86186"
      ]
     },
     "execution_count": 36,
     "metadata": {},
     "output_type": "execute_result"
    }
   ],
   "source": [
    "data['glat'].size"
   ]
  },
  {
   "cell_type": "code",
   "execution_count": null,
   "metadata": {},
   "outputs": [],
   "source": []
  }
 ],
 "metadata": {
  "kernelspec": {
   "display_name": "Python 3",
   "language": "python",
   "name": "python3"
  },
  "language_info": {
   "codemirror_mode": {
    "name": "ipython",
    "version": 3
   },
   "file_extension": ".py",
   "mimetype": "text/x-python",
   "name": "python",
   "nbconvert_exporter": "python",
   "pygments_lexer": "ipython3",
   "version": "3.6.2"
  }
 },
 "nbformat": 4,
 "nbformat_minor": 2
}
