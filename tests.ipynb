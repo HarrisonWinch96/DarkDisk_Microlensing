{
 "cells": [
  {
   "cell_type": "code",
   "execution_count": null,
   "metadata": {},
   "outputs": [],
   "source": [
    "#notebook to test scripts to make plots"
   ]
  },
  {
   "cell_type": "code",
   "execution_count": 1,
   "metadata": {},
   "outputs": [],
   "source": [
    "#from ML_functions_sources import max_f\n",
    "from ML_functions import *\n",
    "#import ML_functions as ml\n",
    "import numpy as np\n",
    "import matplotlib.pyplot as plt"
   ]
  },
  {
   "cell_type": "code",
   "execution_count": null,
   "metadata": {},
   "outputs": [],
   "source": []
  },
  {
   "cell_type": "code",
   "execution_count": 2,
   "metadata": {},
   "outputs": [
    {
     "name": "stdout",
     "output_type": "stream",
     "text": [
      "done generating events\n"
     ]
    },
    {
     "data": {
      "image/png": "[encoded data removed]",
      "text/plain": [
       "<matplotlib.figure.Figure at 0x7f7f3d5d1080>"
      ]
     },
     "metadata": {},
     "output_type": "display_data"
    },
    {
     "data": {
      "text/plain": [
       "-11.363380935354206"
      ]
     },
     "execution_count": 2,
     "metadata": {},
     "output_type": "execute_result"
    }
   ],
   "source": [
    "qmd = np.array([0.1,0.1])\n",
    "max_f(1, 50, qmd, rho_mirrordisk, data = data_masked, logfexp = 0)"
   ]
  },
  {
   "cell_type": "code",
   "execution_count": 5,
   "metadata": {},
   "outputs": [
    {
     "data": {
      "text/plain": [
       "array([0])"
      ]
     },
     "execution_count": 5,
     "metadata": {},
     "output_type": "execute_result"
    }
   ],
   "source": [
    "import numpy as np\n",
    "x = np.arange(1)\n",
    "x[::1]"
   ]
  },
  {
   "cell_type": "code",
   "execution_count": 9,
   "metadata": {},
   "outputs": [
    {
     "name": "stdout",
     "output_type": "stream",
     "text": [
      "done generating events\n"
     ]
    },
    {
     "data": {
      "text/plain": [
       "-3.4501592348981904"
      ]
     },
     "execution_count": 9,
     "metadata": {},
     "output_type": "execute_result"
    }
   ],
   "source": [
    "max_f(1, 1, 1.0, rho_NFW, data='LMC', logfexp=0)"
   ]
  },
  {
   "cell_type": "code",
   "execution_count": 15,
   "metadata": {},
   "outputs": [],
   "source": [
    "from scipy.integrate import tplquad\n",
    "from astropy import units as u\n",
    "from density_funcs import *\n",
    "\n",
    "def totalmass(rho, q):\n",
    "    integrand = lambda r, z, th, q : rho(r,z,th,q)*r\n",
    "\n",
    "    Theta = np.linspace(0,2*np.pi, 1000)\n",
    "    lim = 50000\n",
    "    Z = np.linspace(-lim, lim, 1000)*u.parsec\n",
    "    R = np.linspace(0, 2*lim, 1000)*u.parsec\n",
    "    \n",
    "    grid = np.meshgrid(R, Z, Theta)\n",
    "    \n",
    "    \n",
    "    \n",
    "    return grid\n",
    "    \n",
    "grid = totalmass(rho_NFW, 1)"
   ]
  },
  {
   "cell_type": "code",
   "execution_count": 16,
   "metadata": {},
   "outputs": [],
   "source": [
    "Rho = rho_NFW(grid[0], grid[1], grid[2], 1.0)"
   ]
  },
  {
   "cell_type": "code",
   "execution_count": 17,
   "metadata": {},
   "outputs": [
    {
     "name": "stdout",
     "output_type": "stream",
     "text": [
      "[[[2.63287420e-04 2.63287420e-04 2.63287420e-04 ... 2.63287420e-04\n",
      "   2.63287420e-04 2.63287420e-04]\n",
      "  [2.63286093e-04 2.63286093e-04 2.63286093e-04 ... 2.63286093e-04\n",
      "   2.63286093e-04 2.63286093e-04]\n",
      "  [2.63282111e-04 2.63282111e-04 2.63282111e-04 ... 2.63282111e-04\n",
      "   2.63282111e-04 2.63282111e-04]\n",
      "  ...\n",
      "  [3.15400035e-05 3.15400035e-05 3.15400035e-05 ... 3.15400035e-05\n",
      "   3.15400035e-05 3.15400035e-05]\n",
      "  [3.14705764e-05 3.14705764e-05 3.14705764e-05 ... 3.14705764e-05\n",
      "   3.14705764e-05 3.14705764e-05]\n",
      "  [3.14013391e-05 3.14013391e-05 3.14013391e-05 ... 3.14013391e-05\n",
      "   3.14013391e-05 3.14013391e-05]]\n",
      "\n",
      " [[2.64617645e-04 2.64617645e-04 2.64617645e-04 ... 2.64617645e-04\n",
      "   2.64617645e-04 2.64617645e-04]\n",
      "  [2.64616306e-04 2.64616306e-04 2.64616306e-04 ... 2.64616306e-04\n",
      "   2.64616306e-04 2.64616306e-04]\n",
      "  [2.64612290e-04 2.64612290e-04 2.64612290e-04 ... 2.64612290e-04\n",
      "   2.64612290e-04 2.64612290e-04]\n",
      "  ...\n",
      "  [3.15748322e-05 3.15748322e-05 3.15748322e-05 ... 3.15748322e-05\n",
      "   3.15748322e-05 3.15748322e-05]\n",
      "  [3.15052749e-05 3.15052749e-05 3.15052749e-05 ... 3.15052749e-05\n",
      "   3.15052749e-05 3.15052749e-05]\n",
      "  [3.14359080e-05 3.14359080e-05 3.14359080e-05 ... 3.14359080e-05\n",
      "   3.14359080e-05 3.14359080e-05]]\n",
      "\n",
      " [[2.65956888e-04 2.65956888e-04 2.65956888e-04 ... 2.65956888e-04\n",
      "   2.65956888e-04 2.65956888e-04]\n",
      "  [2.65955537e-04 2.65955537e-04 2.65955537e-04 ... 2.65955537e-04\n",
      "   2.65955537e-04 2.65955537e-04]\n",
      "  [2.65951486e-04 2.65951486e-04 2.65951486e-04 ... 2.65951486e-04\n",
      "   2.65951486e-04 2.65951486e-04]\n",
      "  ...\n",
      "  [3.16096562e-05 3.16096562e-05 3.16096562e-05 ... 3.16096562e-05\n",
      "   3.16096562e-05 3.16096562e-05]\n",
      "  [3.15399686e-05 3.15399686e-05 3.15399686e-05 ... 3.15399686e-05\n",
      "   3.15399686e-05 3.15399686e-05]\n",
      "  [3.14704721e-05 3.14704721e-05 3.14704721e-05 ... 3.14704721e-05\n",
      "   3.14704721e-05 3.14704721e-05]]\n",
      "\n",
      " ...\n",
      "\n",
      " [[2.65956888e-04 2.65956888e-04 2.65956888e-04 ... 2.65956888e-04\n",
      "   2.65956888e-04 2.65956888e-04]\n",
      "  [2.65955537e-04 2.65955537e-04 2.65955537e-04 ... 2.65955537e-04\n",
      "   2.65955537e-04 2.65955537e-04]\n",
      "  [2.65951486e-04 2.65951486e-04 2.65951486e-04 ... 2.65951486e-04\n",
      "   2.65951486e-04 2.65951486e-04]\n",
      "  ...\n",
      "  [3.16096562e-05 3.16096562e-05 3.16096562e-05 ... 3.16096562e-05\n",
      "   3.16096562e-05 3.16096562e-05]\n",
      "  [3.15399686e-05 3.15399686e-05 3.15399686e-05 ... 3.15399686e-05\n",
      "   3.15399686e-05 3.15399686e-05]\n",
      "  [3.14704721e-05 3.14704721e-05 3.14704721e-05 ... 3.14704721e-05\n",
      "   3.14704721e-05 3.14704721e-05]]\n",
      "\n",
      " [[2.64617645e-04 2.64617645e-04 2.64617645e-04 ... 2.64617645e-04\n",
      "   2.64617645e-04 2.64617645e-04]\n",
      "  [2.64616306e-04 2.64616306e-04 2.64616306e-04 ... 2.64616306e-04\n",
      "   2.64616306e-04 2.64616306e-04]\n",
      "  [2.64612290e-04 2.64612290e-04 2.64612290e-04 ... 2.64612290e-04\n",
      "   2.64612290e-04 2.64612290e-04]\n",
      "  ...\n",
      "  [3.15748322e-05 3.15748322e-05 3.15748322e-05 ... 3.15748322e-05\n",
      "   3.15748322e-05 3.15748322e-05]\n",
      "  [3.15052749e-05 3.15052749e-05 3.15052749e-05 ... 3.15052749e-05\n",
      "   3.15052749e-05 3.15052749e-05]\n",
      "  [3.14359080e-05 3.14359080e-05 3.14359080e-05 ... 3.14359080e-05\n",
      "   3.14359080e-05 3.14359080e-05]]\n",
      "\n",
      " [[2.63287420e-04 2.63287420e-04 2.63287420e-04 ... 2.63287420e-04\n",
      "   2.63287420e-04 2.63287420e-04]\n",
      "  [2.63286093e-04 2.63286093e-04 2.63286093e-04 ... 2.63286093e-04\n",
      "   2.63286093e-04 2.63286093e-04]\n",
      "  [2.63282111e-04 2.63282111e-04 2.63282111e-04 ... 2.63282111e-04\n",
      "   2.63282111e-04 2.63282111e-04]\n",
      "  ...\n",
      "  [3.15400035e-05 3.15400035e-05 3.15400035e-05 ... 3.15400035e-05\n",
      "   3.15400035e-05 3.15400035e-05]\n",
      "  [3.14705764e-05 3.14705764e-05 3.14705764e-05 ... 3.14705764e-05\n",
      "   3.14705764e-05 3.14705764e-05]\n",
      "  [3.14013391e-05 3.14013391e-05 3.14013391e-05 ... 3.14013391e-05\n",
      "   3.14013391e-05 3.14013391e-05]]] solMass / pc3\n"
     ]
    }
   ],
   "source": [
    "print(Rho)"
   ]
  },
  {
   "cell_type": "code",
   "execution_count": 3,
   "metadata": {},
   "outputs": [
    {
     "data": {
      "text/plain": [
       "array([0.        , 1.57079633, 3.14159265, 4.71238898])"
      ]
     },
     "execution_count": 3,
     "metadata": {},
     "output_type": "execute_result"
    }
   ],
   "source": [
    "np.arange(0,2*np.pi, np.pi/2)"
   ]
  },
  {
   "cell_type": "code",
   "execution_count": 5,
   "metadata": {},
   "outputs": [
    {
     "ename": "TypeError",
     "evalue": "Invalid dimensions for image data",
     "output_type": "error",
     "traceback": [
      "\u001b[0;31m---------------------------------------------------------------------------\u001b[0m",
      "\u001b[0;31mTypeError\u001b[0m                                 Traceback (most recent call last)",
      "\u001b[0;32m<ipython-input-5-8d32b68fa3e0>\u001b[0m in \u001b[0;36m<module>\u001b[0;34m()\u001b[0m\n\u001b[1;32m      8\u001b[0m \u001b[0mrs\u001b[0m \u001b[0;34m=\u001b[0m \u001b[0mrho_semis\u001b[0m\u001b[0;34m(\u001b[0m\u001b[0mco\u001b[0m\u001b[0;34m[\u001b[0m\u001b[0;36m0\u001b[0m\u001b[0;34m]\u001b[0m\u001b[0;34m,\u001b[0m\u001b[0mco\u001b[0m\u001b[0;34m[\u001b[0m\u001b[0;36m1\u001b[0m\u001b[0;34m]\u001b[0m\u001b[0;34m,\u001b[0m \u001b[0mco\u001b[0m\u001b[0;34m[\u001b[0m\u001b[0;36m2\u001b[0m\u001b[0;34m]\u001b[0m\u001b[0;34m,\u001b[0m\u001b[0;36m1.0\u001b[0m\u001b[0;34m)\u001b[0m\u001b[0;34m\u001b[0m\u001b[0m\n\u001b[1;32m      9\u001b[0m \u001b[0;34m\u001b[0m\u001b[0m\n\u001b[0;32m---> 10\u001b[0;31m \u001b[0mplt\u001b[0m\u001b[0;34m.\u001b[0m\u001b[0mimshow\u001b[0m\u001b[0;34m(\u001b[0m\u001b[0mrs\u001b[0m\u001b[0;34m.\u001b[0m\u001b[0mvalue\u001b[0m\u001b[0;34m)\u001b[0m\u001b[0;34m\u001b[0m\u001b[0m\n\u001b[0m\u001b[1;32m     11\u001b[0m \u001b[0mplt\u001b[0m\u001b[0;34m.\u001b[0m\u001b[0mcolorbar\u001b[0m\u001b[0;34m(\u001b[0m\u001b[0;34m)\u001b[0m\u001b[0;34m\u001b[0m\u001b[0m\n\u001b[1;32m     12\u001b[0m \u001b[0mplt\u001b[0m\u001b[0;34m.\u001b[0m\u001b[0mshow\u001b[0m\u001b[0;34m(\u001b[0m\u001b[0;34m)\u001b[0m\u001b[0;34m\u001b[0m\u001b[0m\n",
      "\u001b[0;32m/usr/local/lib/python3.6/site-packages/matplotlib/pyplot.py\u001b[0m in \u001b[0;36mimshow\u001b[0;34m(X, cmap, norm, aspect, interpolation, alpha, vmin, vmax, origin, extent, shape, filternorm, filterrad, imlim, resample, url, hold, data, **kwargs)\u001b[0m\n\u001b[1;32m   3155\u001b[0m                         \u001b[0mfilternorm\u001b[0m\u001b[0;34m=\u001b[0m\u001b[0mfilternorm\u001b[0m\u001b[0;34m,\u001b[0m \u001b[0mfilterrad\u001b[0m\u001b[0;34m=\u001b[0m\u001b[0mfilterrad\u001b[0m\u001b[0;34m,\u001b[0m\u001b[0;34m\u001b[0m\u001b[0m\n\u001b[1;32m   3156\u001b[0m                         \u001b[0mimlim\u001b[0m\u001b[0;34m=\u001b[0m\u001b[0mimlim\u001b[0m\u001b[0;34m,\u001b[0m \u001b[0mresample\u001b[0m\u001b[0;34m=\u001b[0m\u001b[0mresample\u001b[0m\u001b[0;34m,\u001b[0m \u001b[0murl\u001b[0m\u001b[0;34m=\u001b[0m\u001b[0murl\u001b[0m\u001b[0;34m,\u001b[0m \u001b[0mdata\u001b[0m\u001b[0;34m=\u001b[0m\u001b[0mdata\u001b[0m\u001b[0;34m,\u001b[0m\u001b[0;34m\u001b[0m\u001b[0m\n\u001b[0;32m-> 3157\u001b[0;31m                         **kwargs)\n\u001b[0m\u001b[1;32m   3158\u001b[0m     \u001b[0;32mfinally\u001b[0m\u001b[0;34m:\u001b[0m\u001b[0;34m\u001b[0m\u001b[0m\n\u001b[1;32m   3159\u001b[0m         \u001b[0max\u001b[0m\u001b[0;34m.\u001b[0m\u001b[0m_hold\u001b[0m \u001b[0;34m=\u001b[0m \u001b[0mwashold\u001b[0m\u001b[0;34m\u001b[0m\u001b[0m\n",
      "\u001b[0;32m/usr/local/lib/python3.6/site-packages/matplotlib/__init__.py\u001b[0m in \u001b[0;36minner\u001b[0;34m(ax, *args, **kwargs)\u001b[0m\n\u001b[1;32m   1896\u001b[0m                     warnings.warn(msg % (label_namer, func.__name__),\n\u001b[1;32m   1897\u001b[0m                                   RuntimeWarning, stacklevel=2)\n\u001b[0;32m-> 1898\u001b[0;31m             \u001b[0;32mreturn\u001b[0m \u001b[0mfunc\u001b[0m\u001b[0;34m(\u001b[0m\u001b[0max\u001b[0m\u001b[0;34m,\u001b[0m \u001b[0;34m*\u001b[0m\u001b[0margs\u001b[0m\u001b[0;34m,\u001b[0m \u001b[0;34m**\u001b[0m\u001b[0mkwargs\u001b[0m\u001b[0;34m)\u001b[0m\u001b[0;34m\u001b[0m\u001b[0m\n\u001b[0m\u001b[1;32m   1899\u001b[0m         \u001b[0mpre_doc\u001b[0m \u001b[0;34m=\u001b[0m \u001b[0minner\u001b[0m\u001b[0;34m.\u001b[0m\u001b[0m__doc__\u001b[0m\u001b[0;34m\u001b[0m\u001b[0m\n\u001b[1;32m   1900\u001b[0m         \u001b[0;32mif\u001b[0m \u001b[0mpre_doc\u001b[0m \u001b[0;32mis\u001b[0m \u001b[0;32mNone\u001b[0m\u001b[0;34m:\u001b[0m\u001b[0;34m\u001b[0m\u001b[0m\n",
      "\u001b[0;32m/usr/local/lib/python3.6/site-packages/matplotlib/axes/_axes.py\u001b[0m in \u001b[0;36mimshow\u001b[0;34m(self, X, cmap, norm, aspect, interpolation, alpha, vmin, vmax, origin, extent, shape, filternorm, filterrad, imlim, resample, url, **kwargs)\u001b[0m\n\u001b[1;32m   5122\u001b[0m                               resample=resample, **kwargs)\n\u001b[1;32m   5123\u001b[0m \u001b[0;34m\u001b[0m\u001b[0m\n\u001b[0;32m-> 5124\u001b[0;31m         \u001b[0mim\u001b[0m\u001b[0;34m.\u001b[0m\u001b[0mset_data\u001b[0m\u001b[0;34m(\u001b[0m\u001b[0mX\u001b[0m\u001b[0;34m)\u001b[0m\u001b[0;34m\u001b[0m\u001b[0m\n\u001b[0m\u001b[1;32m   5125\u001b[0m         \u001b[0mim\u001b[0m\u001b[0;34m.\u001b[0m\u001b[0mset_alpha\u001b[0m\u001b[0;34m(\u001b[0m\u001b[0malpha\u001b[0m\u001b[0;34m)\u001b[0m\u001b[0;34m\u001b[0m\u001b[0m\n\u001b[1;32m   5126\u001b[0m         \u001b[0;32mif\u001b[0m \u001b[0mim\u001b[0m\u001b[0;34m.\u001b[0m\u001b[0mget_clip_path\u001b[0m\u001b[0;34m(\u001b[0m\u001b[0;34m)\u001b[0m \u001b[0;32mis\u001b[0m \u001b[0;32mNone\u001b[0m\u001b[0;34m:\u001b[0m\u001b[0;34m\u001b[0m\u001b[0m\n",
      "\u001b[0;32m/usr/local/lib/python3.6/site-packages/matplotlib/image.py\u001b[0m in \u001b[0;36mset_data\u001b[0;34m(self, A)\u001b[0m\n\u001b[1;32m    598\u001b[0m         if (self._A.ndim not in (2, 3) or\n\u001b[1;32m    599\u001b[0m                 (self._A.ndim == 3 and self._A.shape[-1] not in (3, 4))):\n\u001b[0;32m--> 600\u001b[0;31m             \u001b[0;32mraise\u001b[0m \u001b[0mTypeError\u001b[0m\u001b[0;34m(\u001b[0m\u001b[0;34m\"Invalid dimensions for image data\"\u001b[0m\u001b[0;34m)\u001b[0m\u001b[0;34m\u001b[0m\u001b[0m\n\u001b[0m\u001b[1;32m    601\u001b[0m \u001b[0;34m\u001b[0m\u001b[0m\n\u001b[1;32m    602\u001b[0m         \u001b[0mself\u001b[0m\u001b[0;34m.\u001b[0m\u001b[0m_imcache\u001b[0m \u001b[0;34m=\u001b[0m \u001b[0;32mNone\u001b[0m\u001b[0;34m\u001b[0m\u001b[0m\n",
      "\u001b[0;31mTypeError\u001b[0m: Invalid dimensions for image data"
     ]
    },
    {
     "data": {
      "image/png": "[encoded data removed]",
      "text/plain": [
       "<matplotlib.figure.Figure at 0x7f0830e2bf60>"
      ]
     },
     "metadata": {},
     "output_type": "display_data"
    }
   ],
   "source": [
    "from density_funcs import *\n",
    "\n",
    "r = np.linspace(-10000, 10000, 100)*u.parsec\n",
    "z = np.linspace(-10000, 10000, 100)*u.parsec\n",
    "#th = np.linspace(0,np.pi, 100)\n",
    "\n",
    "co = np.meshgrid(r,z, th)\n",
    "rs = rho_semis(co[0],co[1], co[2],1.0)\n",
    "\n",
    "plt.imshow(rs.value)\n",
    "plt.colorbar()\n",
    "plt.show()\n",
    "\n",
    "#rm = rho_mirrordisktilt(np.abs(co[0]),co[1], [0.0, 0.0])\n",
    "#plt.imshow(rm.value)\n",
    "#plt.colorbar()"
   ]
  },
  {
   "cell_type": "code",
   "execution_count": 2,
   "metadata": {},
   "outputs": [],
   "source": [
    "from astropy.io import fits\n",
    "\n",
    "hdu = fits.open('galaxy1.fits')\n",
    "data0 = hdu[1].data\n",
    "data_masked = data0[~np.less(np.sqrt(data0['glat']**2 + ((data0['glon']+180)%360 - 180)**2), 2.0)]\n",
    "data_masked5 = data0[~np.less(np.sqrt(data0['glat']**2 + ((data0['glon']+180)%360 - 180)**2), 5.0)]\n"
   ]
  },
  {
   "cell_type": "code",
   "execution_count": 5,
   "metadata": {},
   "outputs": [
    {
     "name": "stdout",
     "output_type": "stream",
     "text": [
      "31800 500000\n",
      "[    0     0     0 ... 31798 31798 31799]\n",
      "number of sources:  500000\n"
     ]
    }
   ],
   "source": [
    "N_sources = 500000\n",
    "\n",
    "N_step = N_sources\n",
    "        #print(data)\n",
    "print(data0.size, N_step)\n",
    "res = np.int(data0.size/N_step)\n",
    "N_ev = 0\n",
    "\n",
    "sources_per_LoS = 17e9/N_sources\n",
    "\n",
    "spots = np.linspace(0, data0.size - 1, N_sources)\n",
    "spots = spots.astype(int)\n",
    "print(spots)\n",
    "                 \n",
    "\n",
    "i = 0\n",
    "for s in data0[spots]:\n",
    "    i = i+1\n",
    "    \n",
    "    if (i >= N_sources): break\n",
    "    \n",
    "print('number of sources: ', i)"
   ]
  },
  {
   "cell_type": "code",
   "execution_count": 3,
   "metadata": {},
   "outputs": [],
   "source": [
    "from astropy.io import fits\n",
    "hdu = fits.open('galaxy1.fits')\n",
    "data = hdu[1].data"
   ]
  },
  {
   "cell_type": "code",
   "execution_count": 33,
   "metadata": {},
   "outputs": [
    {
     "ename": "AttributeError",
     "evalue": "module 'numpy.random' has no attribute 'default_rng'",
     "output_type": "error",
     "traceback": [
      "\u001b[0;31m---------------------------------------------------------------------------\u001b[0m",
      "\u001b[0;31mAttributeError\u001b[0m                            Traceback (most recent call last)",
      "\u001b[0;32m<ipython-input-33-519438a10d4c>\u001b[0m in \u001b[0;36m<module>\u001b[0;34m()\u001b[0m\n\u001b[1;32m      1\u001b[0m \u001b[0;32mimport\u001b[0m \u001b[0mnumpy\u001b[0m \u001b[0;32mas\u001b[0m \u001b[0mnp\u001b[0m\u001b[0;34m\u001b[0m\u001b[0m\n\u001b[1;32m      2\u001b[0m \u001b[0;34m\u001b[0m\u001b[0m\n\u001b[0;32m----> 3\u001b[0;31m \u001b[0mrng\u001b[0m \u001b[0;34m=\u001b[0m \u001b[0mnp\u001b[0m\u001b[0;34m.\u001b[0m\u001b[0mrandom\u001b[0m\u001b[0;34m.\u001b[0m\u001b[0mdefault_rng\u001b[0m\u001b[0;34m(\u001b[0m\u001b[0;34m)\u001b[0m\u001b[0;34m\u001b[0m\u001b[0m\n\u001b[0m\u001b[1;32m      4\u001b[0m \u001b[0;34m\u001b[0m\u001b[0m\n\u001b[1;32m      5\u001b[0m \u001b[0mprint\u001b[0m\u001b[0;34m(\u001b[0m\u001b[0mdata\u001b[0m\u001b[0;34m[\u001b[0m\u001b[0;36m0\u001b[0m\u001b[0;34m]\u001b[0m\u001b[0;34m)\u001b[0m\u001b[0;34m\u001b[0m\u001b[0m\n",
      "\u001b[0;31mAttributeError\u001b[0m: module 'numpy.random' has no attribute 'default_rng'"
     ]
    }
   ],
   "source": [
    "import numpy as np\n",
    "\n",
    "rng = np.random.default_rng()\n",
    "\n",
    "print(data[0])\n",
    "rng.shuffle(data[0])\n",
    "print(data[0])"
   ]
  },
  {
   "cell_type": "code",
   "execution_count": 3,
   "metadata": {},
   "outputs": [
    {
     "name": "stdout",
     "output_type": "stream",
     "text": [
      "0.6 0.6 1.2909944487358056 1.6666666666666667\n"
     ]
    }
   ],
   "source": [
    "from scipy.stats import poisson\n",
    "import numpy as np\n",
    "import matplotlib.pyplot as plt\n",
    "\n",
    "mu = 0.6\n",
    "mean, var, skew, kurt = poisson.stats(mu, moments='mvsk')\n",
    "print(mean, var, skew, kurt)\n"
   ]
  },
  {
   "cell_type": "code",
   "execution_count": 7,
   "metadata": {},
   "outputs": [
    {
     "data": {
      "image/png": "[encoded data removed]",
      "text/plain": [
       "<matplotlib.figure.Figure at 0x7f3cf7dec6d8>"
      ]
     },
     "metadata": {},
     "output_type": "display_data"
    }
   ],
   "source": [
    "mu = np.logspace(-5,1,20)\n",
    "\n",
    "sqrt = np.sqrt(mu)\n",
    "stds = poisson.std(mu)\n",
    "\n",
    "plt.loglog(mu, sqrt, label = 'sqrt')\n",
    "plt.loglog(mu, stds, label = 'stand dev')\n",
    "plt.legend()\n",
    "\n",
    "plt.show()"
   ]
  },
  {
   "cell_type": "code",
   "execution_count": 3,
   "metadata": {},
   "outputs": [],
   "source": [
    "from ML_functions import max_f, gen_events\n",
    "from density_funcs import rho_NFW, rho_mirrordisk\n",
    "\n",
    "from astropy.io import fits\n",
    "hdu = fits.open('galaxy1.fits')\n",
    "data = hdu[1].data\n",
    "\n",
    "import numpy as np\n",
    "\n",
    "#print(max_f(0.36, 20, [1.0,1.0], rho_mirrordisk, err_baryons = 0.5, logfexp = 0, baryons = True, iso = False))\n",
    "\n",
    "#print(max_f(0.36, 20, [1.0,1.0], rho_mirrordisk, err_baryons = 0.005, logfexp = 0, baryons = True, iso = False))\n",
    "\n",
    "#print(max_f(1.0, 20, 1.0, rho_NFW, err_baryons = 0.05, logfexp = 0, baryons = True, iso = True))\n",
    "#print(max_f(1.0, 20, 1.0, rho_NFW, err_baryons = 0.005, logfexp = 0, baryons = True, iso = True))\n",
    "\n",
    "#events, T = gen_events(0.36, 20, 1.0, rho_NFW, data = data, iso = True)"
   ]
  },
  {
   "cell_type": "code",
   "execution_count": null,
   "metadata": {},
   "outputs": [
    {
     "name": "stdout",
     "output_type": "stream",
     "text": [
      "done generating events\n",
      "found where to start\n",
      "0.01 -3.96746826631455\n",
      "done generating events\n",
      "found where to start\n",
      "0.01268961003167922 -3.847246457320231\n",
      "done generating events\n",
      "found where to start\n",
      "0.01610262027560939 -3.722754303174837\n",
      "done generating events\n",
      "found where to start\n",
      "0.020433597178569417 -3.6112186220580536\n",
      "done generating events\n",
      "found where to start\n",
      "0.02592943797404667 -3.50416281079771\n",
      "done generating events\n",
      "found where to start\n",
      "0.03290344562312668 -3.3955514161283307\n",
      "done generating events\n",
      "found where to start\n",
      "0.041753189365604 -3.2881495840480683\n",
      "done generating events\n",
      "found where to start\n",
      "0.05298316906283707 -3.188398656782682\n",
      "done generating events\n",
      "found where to start\n",
      "0.06723357536499334 -3.0995537887074334\n",
      "done generating events\n",
      "found where to start\n",
      "0.08531678524172806 -3.0200570499087402\n",
      "done generating events\n",
      "found where to start\n",
      "0.10826367338740546 -2.9522671901786155\n",
      "done generating events\n",
      "found where to start\n",
      "0.1373823795883263 -2.8693060673346196\n",
      "done generating events\n",
      "found where to start\n",
      "0.17433288221999882 -2.79767209514262\n",
      "done generating events\n",
      "found where to start\n",
      "0.2212216291070449 -2.772562159425411\n",
      "done generating events\n",
      "found where to start\n",
      "0.2807216203941177 -2.74597249535728\n",
      "done generating events\n",
      "found where to start\n",
      "0.3562247890262442 -2.708257204853661\n",
      "done generating events\n",
      "found where to start\n",
      "0.4520353656360243 -2.682785700031447\n",
      "done generating events\n",
      "found where to start\n",
      "0.5736152510448679 -2.6649681367156344\n",
      "done generating events\n"
     ]
    }
   ],
   "source": [
    "M = np.logspace(-2, 1, 30)\n",
    "F = np.zeros_like(M)\n",
    "F1 = np.zeros_like(M)\n",
    "\n",
    "i=0\n",
    "for m in M:\n",
    "    F[i] = max_f(m, 100, [1.0,1.0], rho_mirrordisk, err_baryons = 0.05, logfexp = 0, m_b = 0.36, baryons = False, iso = False)\n",
    "    #F1[i] = max_f(m, 20, [1.0,1.0], rho_mirrordisk, err_baryons = 0.05, logfexp = 0, m_b = 1.0, baryons = True, iso = False)\n",
    "    print(m, F[i])\n",
    "    i = i+1\n",
    "np.savetxt('zoom_constraints_baryon_range.txt', F)\n",
    "#np.savetxt('zoom_constraints_m1.txt', F1)"
   ]
  },
  {
   "cell_type": "code",
   "execution_count": null,
   "metadata": {},
   "outputs": [],
   "source": [
    "import matplotlib.pyplot as plt\n",
    "\n",
    "plt.plot(M, F, 'r-', label = 'DCO constraints, m_b = 0.36')\n",
    "plt.plot([0.36, 0.36], [-4.5, -1], 'r--')\n",
    "\n",
    "plt.plot(M, F1, 'b-', label = 'DCO constraints, m_b = 1.0')\n",
    "plt.plot([1.0, 1.0], [-4.5, -1], 'b--')\n",
    "\n",
    "unc = np.log10(0.05)\n",
    "plt.plot([1e-2, 1e1], [unc, unc], 'k--', label = 'baryon uncertainty')\n",
    "plt.xscale('log')\n",
    "\n",
    "plt.xlabel('mass [$M_\\odot$]')\n",
    "plt.ylabel('$\\log_{10}(M_{DCO}/M_{star})$')\n",
    "plt.legend()\n",
    "\n",
    "plt.savefig('figures/mass_spike.png')\n",
    "#np.savetxt('spikeplot.txt', F)"
   ]
  },
  {
   "cell_type": "code",
   "execution_count": 6,
   "metadata": {},
   "outputs": [],
   "source": [
    "events, T = gen_events(0.36, 20, [1.0,1.0], rho_mirrordisk, data = data, iso = False)"
   ]
  },
  {
   "cell_type": "code",
   "execution_count": 3,
   "metadata": {},
   "outputs": [],
   "source": [
    "from scipy.stats import poisson, norm\n",
    "import numpy as np\n",
    "import matplotlib.pyplot as plt\n",
    "\n",
    "def p_alpha(a):\n",
    "    return norm.logpdf(a, loc = 1, scale = 0.05)\n",
    "    \n",
    "def PDF(f_DM, ab):\n",
    "    N_B = events[0]#[0,0]\n",
    "    N_D = events[1]#[0,0]\n",
    "    #ab = 1 + ab\n",
    "\n",
    "    sources_per_LoS = 17e9/20\n",
    "    \n",
    "    #K = np.arange(0,100)\n",
    "    k = np.expand_dims(np.expand_dims(np.arange(0,100), 0), 0)\n",
    "\n",
    "    N_D = np.expand_dims(N_D, 2)\n",
    "    N_B = np.expand_dims(N_B, 2)\n",
    "    karray = np.zeros([20,20,100])\n",
    "    \n",
    "    #for i in np.arange(100):\n",
    "        #k = K[:,:,i]\n",
    "    karray = poisson.pmf(k, N_B)*np.nan_to_num(poisson.logpmf(k, (f_DM*N_D + ab*N_B)))\n",
    "    Lpois_new = sources_per_LoS*np.sum(karray,2)\n",
    "    \n",
    "    #print(np.sum(karray,2))\n",
    "\n",
    "    sum_log = np.sum(Lpois_new) + p_alpha(ab)\n",
    "    #sum_log = p_alpha(ab)\n",
    "    return sum_log\n",
    "    \n",
    "\n"
   ]
  },
  {
   "cell_type": "code",
   "execution_count": 12,
   "metadata": {},
   "outputs": [],
   "source": [
    "f_axis = np.logspace(-6,0, 80)\n",
    "fstep = np.roll(f_axis, -1) - f_axis\n",
    "fstep[-1] = 0\n",
    "\n",
    "a_axis = np.linspace(0.8, 1.2, 80)\n",
    "astep = np.roll(a_axis, -1) - a_axis\n",
    "astep[-1] = 0\n",
    "\n",
    "p = np.zeros([80,80])\n",
    "i = 0\n",
    "for f in f_axis:\n",
    "    j = 0\n",
    "    for a in a_axis:\n",
    "        p[i,j] = PDF(f,a) + np.log10(f) #+ np.log10(a)\n",
    "        #print(f, a, p[i,j])\n",
    "        j = j+1\n",
    "    i = i+1\n",
    "\n",
    "\n",
    "p = np.flip(p, axis = 0)"
   ]
  },
  {
   "cell_type": "code",
   "execution_count": 138,
   "metadata": {},
   "outputs": [
    {
     "name": "stdout",
     "output_type": "stream",
     "text": [
      "[5.95702608e-08 4.60099968e-07 4.14790764e-06 5.38728279e-06\n",
      " 1.26568351e-04 2.12865744e-06 1.26707866e-04 1.42258924e-05\n",
      " 1.87204737e-05 1.80241044e-05 4.94534050e-05 6.24248880e-06\n",
      " 2.34965505e-06 2.17782242e-05 3.99728478e-06 1.92847832e-05\n",
      " 1.43097505e-05 1.13383086e-04 4.12069965e-05 2.43519566e-05] [5.95702608e-08 4.60099968e-07 4.14790764e-06 5.38728279e-06\n",
      " 1.26568351e-04 2.12865744e-06 1.26707866e-04 1.42258924e-05\n",
      " 1.87204737e-05 1.80241044e-05 4.94534050e-05 6.24248880e-06\n",
      " 2.34965505e-06 2.17782242e-05 3.99728478e-06 1.92847832e-05\n",
      " 1.43097505e-05 1.13383086e-04 4.12069965e-05 2.43519566e-05]\n"
     ]
    }
   ],
   "source": [
    "print(np.sum(events[1], 1), np.sum(events[0], 1))"
   ]
  },
  {
   "cell_type": "code",
   "execution_count": 7,
   "metadata": {},
   "outputs": [
    {
     "data": {
      "text/plain": [
       "<matplotlib.text.Text at 0x7f3f6b306ba8>"
      ]
     },
     "execution_count": 7,
     "metadata": {},
     "output_type": "execute_result"
    },
    {
     "data": {
      "image/png": "[encoded data removed]",
      "text/plain": [
       "<matplotlib.figure.Figure at 0x7f3f6b325eb8>"
      ]
     },
     "metadata": {},
     "output_type": "display_data"
    }
   ],
   "source": [
    "p_nod = np.zeros(80)\n",
    "A = np.linspace(0.9, 1.1, 80)\n",
    "\n",
    "i=0\n",
    "for a in A:\n",
    "    p_nod[i] = PDF(0, a) #+ np.log10(a)\n",
    "    i = i+1\n",
    "    \n",
    "#print(p_nod)\n",
    "plt.plot(A, np.exp(p_nod - np.max(p_nod)))\n",
    "plt.ylabel('$A*P( \\log(a_b))$')\n",
    "plt.xlabel('$a_b$')\n",
    "\n",
    "#plt.savefig('./figures/alpha_baryon_prob.png')"
   ]
  },
  {
   "cell_type": "code",
   "execution_count": 14,
   "metadata": {},
   "outputs": [
    {
     "name": "stdout",
     "output_type": "stream",
     "text": [
      "[-5.92320626 -5.52327035 -5.13358921 -4.75416284 -4.38499123 -4.02607439\n",
      " -3.67741232 -3.33900501 -3.01085247 -2.6929547  -2.38531169 -2.08792345\n",
      " -1.80078998 -1.52391127 -1.25728734 -1.00091816 -0.75480376 -0.51894412\n",
      " -0.29333925 -0.07798915  0.12710619  0.32194676  0.50653256  0.6808636\n",
      "  0.84493987  0.99876137  1.14232811  1.27564008  1.39869728  1.51149972\n",
      "  1.61404739  1.70634029  1.78837842  1.86016179  1.92169039  1.97296423\n",
      "  2.01398329  2.04474759  2.06525713  2.07551189  2.07551189  2.06525713\n",
      "  2.04474759  2.01398329  1.97296423  1.92169039  1.86016179  1.78837842\n",
      "  1.70634029  1.61404739  1.51149972  1.39869728  1.27564008  1.14232811\n",
      "  0.99876137  0.84493987  0.6808636   0.50653256  0.32194676  0.12710619\n",
      " -0.07798915 -0.29333925 -0.51894412 -0.75480376 -1.00091816 -1.25728734\n",
      " -1.52391127 -1.80078998 -2.08792345 -2.38531169 -2.6929547  -3.01085247\n",
      " -3.33900501 -3.67741232 -4.02607439 -4.38499123 -4.75416284 -5.13358921\n",
      " -5.52327035 -5.92320626]\n"
     ]
    },
    {
     "data": {
      "image/png": "[encoded data removed]",
      "text/plain": [
       "<matplotlib.figure.Figure at 0x7f3f6b047278>"
      ]
     },
     "metadata": {},
     "output_type": "display_data"
    }
   ],
   "source": [
    "print(p_alpha(a_axis))\n",
    "plt.imshow(np.exp(p - np.max(p)))\n",
    "\n",
    "plt.xticks(np.arange(80)[::10], a_axis[::10], rotation = 'vertical')\n",
    "plt.yticks(np.arange(80)[::10], np.flip(f_axis[::10]))\n",
    "plt.colorbar()\n",
    "plt.show()"
   ]
  },
  {
   "cell_type": "code",
   "execution_count": 197,
   "metadata": {},
   "outputs": [
    {
     "data": {
      "image/png": "[encoded data removed]",
      "text/plain": [
       "<matplotlib.figure.Figure at 0x7effe61f5198>"
      ]
     },
     "metadata": {},
     "output_type": "display_data"
    }
   ],
   "source": [
    "from scipy.special import logsumexp\n",
    "\n",
    "pcomp = logsumexp(np.flip(p, axis=0), 1)\n",
    "plt.plot(f_axis, np.exp(pcomp-np.max(pcomp)))\n",
    "plt.xscale('log')\n",
    "#plt.yscale('log')"
   ]
  },
  {
   "cell_type": "code",
   "execution_count": 6,
   "metadata": {},
   "outputs": [
    {
     "data": {
      "text/plain": [
       "495946.748300778"
      ]
     },
     "execution_count": 6,
     "metadata": {},
     "output_type": "execute_result"
    }
   ],
   "source": [
    "import numpy as np\n",
    "N_B = events[0]\n",
    "\n",
    "sources_per_LoS = 17e9/20\n",
    "\n",
    "total = sources_per_LoS*np.sum(N_B)\n",
    "total"
   ]
  },
  {
   "cell_type": "code",
   "execution_count": 31,
   "metadata": {},
   "outputs": [
    {
     "name": "stdout",
     "output_type": "stream",
     "text": [
      "[[-0.0000e+000 -0.0000e+000 -0.0000e+000 -0.0000e+000 -0.0000e+000\n",
      "  -0.0000e+000 -0.0000e+000 -0.0000e+000 -0.0000e+000 -0.0000e+000\n",
      "  -0.0000e+000 -0.0000e+000 -0.0000e+000 -0.0000e+000 -0.0000e+000\n",
      "  -0.0000e+000 -0.0000e+000 -0.0000e+000 -0.0000e+000 -0.0000e+000]\n",
      " [-0.0000e+000 -0.0000e+000 -0.0000e+000 -0.0000e+000 -0.0000e+000\n",
      "  -0.0000e+000 -0.0000e+000 -0.0000e+000 -0.0000e+000 -0.0000e+000\n",
      "  -0.0000e+000 -0.0000e+000 -0.0000e+000 -0.0000e+000 -0.0000e+000\n",
      "  -0.0000e+000 -0.0000e+000 -0.0000e+000 -0.0000e+000 -0.0000e+000]\n",
      " [-0.0000e+000 -0.0000e+000 -0.0000e+000 -0.0000e+000 -0.0000e+000\n",
      "  -0.0000e+000 -0.0000e+000 -0.0000e+000 -0.0000e+000 -0.0000e+000\n",
      "  -0.0000e+000 -0.0000e+000 -0.0000e+000 -0.0000e+000 -0.0000e+000\n",
      "  -0.0000e+000 -0.0000e+000 -0.0000e+000 -0.0000e+000 -0.0000e+000]\n",
      " [-0.0000e+000 -0.0000e+000 -0.0000e+000 -0.0000e+000 -0.0000e+000\n",
      "  -0.0000e+000 -0.0000e+000 -0.0000e+000 -0.0000e+000 -0.0000e+000\n",
      "  -0.0000e+000 -0.0000e+000 -0.0000e+000 -0.0000e+000 -0.0000e+000\n",
      "  -0.0000e+000 -0.0000e+000 -0.0000e+000 -0.0000e+000 -0.0000e+000]\n",
      " [-0.0000e+000 -0.0000e+000 -0.0000e+000 -0.0000e+000 -0.0000e+000\n",
      "  -0.0000e+000 -0.0000e+000 -0.0000e+000 -0.0000e+000 -0.0000e+000\n",
      "  -0.0000e+000 -0.0000e+000 -0.0000e+000 -0.0000e+000 -0.0000e+000\n",
      "  -0.0000e+000 -0.0000e+000 -0.0000e+000 -0.0000e+000 -0.0000e+000]\n",
      " [-0.0000e+000 -0.0000e+000 -0.0000e+000 -0.0000e+000 -0.0000e+000\n",
      "  -0.0000e+000 -0.0000e+000 -0.0000e+000 -0.0000e+000 -0.0000e+000\n",
      "  -0.0000e+000 -0.0000e+000 -0.0000e+000 -0.0000e+000 -0.0000e+000\n",
      "  -0.0000e+000 -0.0000e+000 -0.0000e+000 -0.0000e+000 -0.0000e+000]\n",
      " [-0.0000e+000 -0.0000e+000 -0.0000e+000 -0.0000e+000 -0.0000e+000\n",
      "  -0.0000e+000 -0.0000e+000 -0.0000e+000 -1.0716e-320 -0.0000e+000\n",
      "  -0.0000e+000 -0.0000e+000 -0.0000e+000 -0.0000e+000 -0.0000e+000\n",
      "  -0.0000e+000 -0.0000e+000 -0.0000e+000 -0.0000e+000 -0.0000e+000]\n",
      " [-0.0000e+000 -0.0000e+000 -0.0000e+000 -0.0000e+000 -0.0000e+000\n",
      "  -0.0000e+000 -0.0000e+000 -0.0000e+000 -0.0000e+000 -0.0000e+000\n",
      "  -0.0000e+000 -0.0000e+000 -0.0000e+000 -0.0000e+000 -0.0000e+000\n",
      "  -0.0000e+000 -0.0000e+000 -0.0000e+000 -0.0000e+000 -0.0000e+000]\n",
      " [-0.0000e+000 -0.0000e+000 -0.0000e+000 -0.0000e+000 -0.0000e+000\n",
      "  -0.0000e+000 -0.0000e+000 -0.0000e+000 -0.0000e+000 -0.0000e+000\n",
      "  -0.0000e+000 -0.0000e+000 -0.0000e+000 -0.0000e+000 -0.0000e+000\n",
      "  -0.0000e+000 -0.0000e+000 -0.0000e+000 -0.0000e+000 -0.0000e+000]\n",
      " [-0.0000e+000 -0.0000e+000 -0.0000e+000 -0.0000e+000 -0.0000e+000\n",
      "  -0.0000e+000 -0.0000e+000 -0.0000e+000 -0.0000e+000 -0.0000e+000\n",
      "  -0.0000e+000 -0.0000e+000 -0.0000e+000 -0.0000e+000 -0.0000e+000\n",
      "  -0.0000e+000 -0.0000e+000 -0.0000e+000 -0.0000e+000 -0.0000e+000]\n",
      " [-0.0000e+000 -0.0000e+000 -0.0000e+000 -0.0000e+000 -0.0000e+000\n",
      "  -0.0000e+000 -0.0000e+000 -0.0000e+000 -0.0000e+000 -0.0000e+000\n",
      "  -0.0000e+000 -0.0000e+000 -0.0000e+000 -0.0000e+000 -0.0000e+000\n",
      "  -0.0000e+000 -0.0000e+000 -0.0000e+000 -0.0000e+000 -0.0000e+000]\n",
      " [-0.0000e+000 -0.0000e+000 -0.0000e+000 -0.0000e+000 -0.0000e+000\n",
      "  -0.0000e+000 -0.0000e+000 -0.0000e+000 -0.0000e+000 -0.0000e+000\n",
      "  -0.0000e+000 -0.0000e+000 -0.0000e+000 -0.0000e+000 -0.0000e+000\n",
      "  -0.0000e+000 -0.0000e+000 -0.0000e+000 -0.0000e+000 -0.0000e+000]\n",
      " [-0.0000e+000 -0.0000e+000 -0.0000e+000 -0.0000e+000 -0.0000e+000\n",
      "  -0.0000e+000 -0.0000e+000 -0.0000e+000 -0.0000e+000 -0.0000e+000\n",
      "  -0.0000e+000 -0.0000e+000 -0.0000e+000 -0.0000e+000 -0.0000e+000\n",
      "  -0.0000e+000 -0.0000e+000 -0.0000e+000 -0.0000e+000 -0.0000e+000]\n",
      " [-0.0000e+000 -0.0000e+000 -0.0000e+000 -0.0000e+000 -0.0000e+000\n",
      "  -0.0000e+000 -0.0000e+000 -0.0000e+000 -0.0000e+000 -0.0000e+000\n",
      "  -0.0000e+000 -0.0000e+000 -0.0000e+000 -0.0000e+000 -0.0000e+000\n",
      "  -0.0000e+000 -0.0000e+000 -0.0000e+000 -0.0000e+000 -0.0000e+000]\n",
      " [-0.0000e+000 -0.0000e+000 -0.0000e+000 -0.0000e+000 -0.0000e+000\n",
      "  -0.0000e+000 -0.0000e+000 -0.0000e+000 -0.0000e+000 -0.0000e+000\n",
      "  -0.0000e+000 -0.0000e+000 -0.0000e+000 -0.0000e+000 -0.0000e+000\n",
      "  -0.0000e+000 -0.0000e+000 -0.0000e+000 -0.0000e+000 -0.0000e+000]\n",
      " [-0.0000e+000 -0.0000e+000 -0.0000e+000 -0.0000e+000 -0.0000e+000\n",
      "  -0.0000e+000 -0.0000e+000 -0.0000e+000 -0.0000e+000 -0.0000e+000\n",
      "  -0.0000e+000 -0.0000e+000 -0.0000e+000 -0.0000e+000 -0.0000e+000\n",
      "  -0.0000e+000 -0.0000e+000 -0.0000e+000 -0.0000e+000 -0.0000e+000]\n",
      " [-0.0000e+000 -0.0000e+000 -0.0000e+000 -0.0000e+000 -0.0000e+000\n",
      "  -0.0000e+000 -0.0000e+000 -0.0000e+000 -0.0000e+000 -0.0000e+000\n",
      "  -0.0000e+000 -0.0000e+000 -0.0000e+000 -0.0000e+000 -0.0000e+000\n",
      "  -0.0000e+000 -0.0000e+000 -0.0000e+000 -0.0000e+000 -0.0000e+000]\n",
      " [-0.0000e+000 -0.0000e+000 -0.0000e+000 -0.0000e+000 -0.0000e+000\n",
      "  -0.0000e+000 -0.0000e+000 -0.0000e+000 -0.0000e+000 -0.0000e+000\n",
      "  -0.0000e+000 -0.0000e+000 -0.0000e+000 -0.0000e+000 -0.0000e+000\n",
      "  -0.0000e+000 -0.0000e+000 -0.0000e+000 -0.0000e+000 -0.0000e+000]\n",
      " [-0.0000e+000 -0.0000e+000 -0.0000e+000 -0.0000e+000 -0.0000e+000\n",
      "  -0.0000e+000 -0.0000e+000 -0.0000e+000 -0.0000e+000 -0.0000e+000\n",
      "  -0.0000e+000 -0.0000e+000 -0.0000e+000 -0.0000e+000 -0.0000e+000\n",
      "  -0.0000e+000 -0.0000e+000 -0.0000e+000 -0.0000e+000 -0.0000e+000]\n",
      " [-0.0000e+000 -0.0000e+000 -0.0000e+000 -0.0000e+000 -0.0000e+000\n",
      "  -0.0000e+000 -0.0000e+000 -0.0000e+000 -0.0000e+000 -0.0000e+000\n",
      "  -0.0000e+000 -0.0000e+000 -0.0000e+000 -0.0000e+000 -0.0000e+000\n",
      "  -0.0000e+000 -0.0000e+000 -0.0000e+000 -0.0000e+000 -0.0000e+000]]\n"
     ]
    },
    {
     "data": {
      "image/png": "[encoded data removed]",
      "text/plain": [
       "<matplotlib.figure.Figure at 0x7fda278f9b38>"
      ]
     },
     "metadata": {},
     "output_type": "display_data"
    },
    {
     "data": {
      "image/png": "[encoded data removed]",
      "text/plain": [
       "<matplotlib.figure.Figure at 0x7fda27654be0>"
      ]
     },
     "metadata": {},
     "output_type": "display_data"
    },
    {
     "data": {
      "image/png": "[encoded data removed]",
      "text/plain": [
       "<matplotlib.figure.Figure at 0x7fda27a6f668>"
      ]
     },
     "metadata": {},
     "output_type": "display_data"
    }
   ],
   "source": [
    "from scipy.stats import poisson\n",
    "import numpy as np\n",
    "import matplotlib.pyplot as plt\n",
    "\n",
    "N_B = events[0]\n",
    "N_D = events[1]\n",
    "\n",
    "ab = 1.0\n",
    "f_DM = 1.0\n",
    "\n",
    "sources_per_LoS = 17e9/20\n",
    "\n",
    "Lpois = sources_per_LoS*poisson.logpmf(np.rint(N_B), (f_DM*N_D + ab*N_B))\n",
    "Lpois_wrong = sources_per_LoS*poisson.logpmf(0, (f_DM*N_D + ab*N_B))\n",
    "\n",
    "k = np.expand_dims(np.expand_dims(np.arange(0,100), 0), 0)\n",
    "\n",
    "N_D = np.expand_dims(N_D, 2)\n",
    "N_B = np.expand_dims(N_B, 2)\n",
    "karray = poisson.pmf(k, N_B)*poisson.logpmf(k, (f_DM*N_D + ab*N_B))\n",
    "Lpois_new = sources_per_LoS*np.sum(karray,2)\n",
    "\n",
    "\n",
    "print(karray[:,:,56])\n",
    "#NOTE karray goes to zero past 56, so going up to 100 just to be safe seems reasonable. Still pretty quick.\n",
    "\n",
    "plt.imshow(Lpois)\n",
    "plt.colorbar()\n",
    "plt.show()\n",
    "\n",
    "plt.imshow(Lpois_wrong)\n",
    "plt.colorbar()\n",
    "plt.show()\n",
    "\n",
    "plt.imshow(Lpois_new)\n",
    "plt.colorbar()\n",
    "plt.show()"
   ]
  },
  {
   "cell_type": "code",
   "execution_count": 43,
   "metadata": {},
   "outputs": [
    {
     "name": "stdout",
     "output_type": "stream",
     "text": [
      "[9.95262315e-04 1.98580939e-03 3.96221064e-03 7.90564958e-03\n",
      " 1.57738447e-02 3.14729578e-02 6.27968067e-02 1.25296102e-01\n",
      " 2.49998590e-01 4.98812766e-01 9.95262315e-01 1.98580939e+00\n",
      " 3.96221064e+00 7.90564958e+00 1.57738447e+01 3.14729578e+01\n",
      " 6.27968067e+01 1.25296102e+02 2.49998590e+02 4.98812766e+02\n",
      " 0.00000000e+00] [1.00000000e-03 1.99526231e-03 3.98107171e-03 7.94328235e-03\n",
      " 1.58489319e-02 3.16227766e-02 6.30957344e-02 1.25892541e-01\n",
      " 2.51188643e-01 5.01187234e-01 1.00000000e+00 1.99526231e+00\n",
      " 3.98107171e+00 7.94328235e+00 1.58489319e+01 3.16227766e+01\n",
      " 6.30957344e+01 1.25892541e+02 2.51188643e+02 5.01187234e+02]\n"
     ]
    }
   ],
   "source": [
    "T = np.logspace(-3, 3, 20+1)\n",
    "step = np.roll(T,-1) - T\n",
    "\n",
    "\n",
    "step[-1] = 0\n",
    "T = T[:-1]\n",
    "\n",
    "print(step, T)"
   ]
  },
  {
   "cell_type": "code",
   "execution_count": 1,
   "metadata": {},
   "outputs": [
    {
     "name": "stdout",
     "output_type": "stream",
     "text": [
      "done generating events\n",
      "found where to start\n",
      "0.0001 -6.3581442467501255 4.383850681924299e-07\n",
      "done generating events\n",
      "found where to start\n",
      "0.000379269019073225 -6.610618243847552 2.451216978629787e-07\n",
      "done generating events\n",
      "found where to start\n",
      "0.0014384498882876629 -6.420718612404324 3.7956082995031203e-07\n",
      "done generating events\n",
      "found where to start\n",
      "0.00545559478116852 -6.011929611783745 9.729048944214931e-07\n",
      "done generating events\n",
      "found where to start\n",
      "0.0206913808111479 -5.567378125628551 2.7078329859488923e-06\n",
      "done generating events\n",
      "found where to start\n",
      "0.07847599703514614 -5.091196059971924 8.10595036352127e-06\n",
      "done generating events\n",
      "found where to start\n",
      "0.2976351441631319 -4.5757214608433845 2.6563086661835155e-05\n",
      "done generating events\n",
      "found where to start\n",
      "1.1288378916846884 -3.9987077808033886 0.00010029798756881282\n",
      "done generating events\n",
      "found where to start\n",
      "4.281332398719396 -3.374433660213268 0.0004222467735882364\n",
      "done generating events\n",
      "found where to start\n",
      "16.237767391887242 -2.7564016239804094 0.001752259309557208\n",
      "done generating events\n",
      "found where to start\n",
      "61.58482110660267 -2.451545372988954 0.00353553081653194\n",
      "done generating events\n",
      "found where to start\n",
      "233.57214690901213 -2.5271924752427553 0.002970349309014041\n",
      "done generating events\n",
      "found where to start\n",
      "885.8667904100832 -2.6716764826133566 0.0021297249433682624\n",
      "done generating events\n",
      "found where to start\n",
      "3359.818286283788 -2.823803364100932 0.0015003640028819828\n",
      "done generating events\n",
      "found where to start\n",
      "12742.749857031322 -2.9691961047774313 0.001073504564111898\n",
      "done generating events\n",
      "found where to start\n",
      "48329.30238571752 -3.0998577531637364 0.0007945884479880919\n",
      "done generating events\n",
      "found where to start\n",
      "183298.07108324376 -3.2132141946267 0.0006120484541463156\n",
      "done generating events\n",
      "found where to start\n",
      "695192.796177562 -3.30097083156964 0.0005000681198207235\n",
      "done generating events\n",
      "found where to start\n",
      "2636650.898730366 -3.371130947551533 0.0004254701069467075\n",
      "done generating events\n",
      "found where to start\n",
      "10000000.0 -3.424476093126683 0.0003762910656215215\n"
     ]
    },
    {
     "data": {
      "text/plain": [
       "array([4.38385068e-07, 2.45121698e-07, 3.79560830e-07, 9.72904894e-07,\n",
       "       2.70783299e-06, 8.10595036e-06, 2.65630867e-05, 1.00297988e-04,\n",
       "       4.22246774e-04, 1.75225931e-03, 3.53553082e-03, 2.97034931e-03,\n",
       "       2.12972494e-03, 1.50036400e-03, 1.07350456e-03, 7.94588448e-04,\n",
       "       6.12048454e-04, 5.00068120e-04, 4.25470107e-04, 3.76291066e-04])"
      ]
     },
     "execution_count": 1,
     "metadata": {},
     "output_type": "execute_result"
    }
   ],
   "source": [
    "from plotgen_functions import basic_constraints\n",
    "basic_constraints(n=20)"
   ]
  },
  {
   "cell_type": "code",
   "execution_count": 111,
   "metadata": {},
   "outputs": [
    {
     "data": {
      "text/plain": [
       "[<matplotlib.lines.Line2D at 0x7effe8392f98>]"
      ]
     },
     "execution_count": 111,
     "metadata": {},
     "output_type": "execute_result"
    },
    {
     "data": {
      "image/png": "[encoded data removed]",
      "text/plain": [
       "<matplotlib.figure.Figure at 0x7effe805a080>"
      ]
     },
     "metadata": {},
     "output_type": "display_data"
    }
   ],
   "source": [
    "def poimatch(ab, nb=0.00000001):\n",
    "    \n",
    "    k = np.arange(0,100)\n",
    "    karray = 1e9*poisson.pmf(k, nb)*np.nan_to_num(poisson.logpmf(k, ab*nb))\n",
    "    loglik = np.sum(karray)\n",
    "    \n",
    "    karray0 = 1e9*poisson.pmf(k, 0.0)*np.nan_to_num(poisson.logpmf(k, ab*0.0))\n",
    "    loglik0 = np.sum(karray0)\n",
    "    \n",
    "    return loglik + loglik0 #+ norm.logpdf(ab, loc=1, scale=0.05)\n",
    "\n",
    "AB = np.logspace(-4,1,80)\n",
    "P = np.zeros(80)\n",
    "i=0\n",
    "for ab in AB:\n",
    "    P[i] = poimatch(ab) #+ np.log(ab)\n",
    "    i = i+1\n",
    "    \n",
    "plt.semilogx(AB,np.exp(P-np.max(P)))"
   ]
  },
  {
   "cell_type": "code",
   "execution_count": 115,
   "metadata": {},
   "outputs": [
    {
     "data": {
      "text/plain": [
       "array([[0]])"
      ]
     },
     "execution_count": 115,
     "metadata": {},
     "output_type": "execute_result"
    }
   ],
   "source": [
    "K = np.expand_dims(np.expand_dims(np.arange(0,100), 0), 0)\n",
    "K[:,:,0]"
   ]
  },
  {
   "cell_type": "code",
   "execution_count": 10,
   "metadata": {},
   "outputs": [
    {
     "name": "stdout",
     "output_type": "stream",
     "text": [
      "0.9227319413671097\n"
     ]
    },
    {
     "name": "stderr",
     "output_type": "stream",
     "text": [
      "/usr/local/lib/python3.6/site-packages/scipy/integrate/quadpack.py:364: IntegrationWarning: The maximum number of subdivisions (50) has been achieved.\n",
      "  If increasing the limit yields no improvement it is advised to analyze \n",
      "  the integrand in order to determine the difficulties.  If the position of a \n",
      "  local difficulty can be determined (singularity, discontinuity) one will \n",
      "  probably gain from splitting up the interval and calling the integrator \n",
      "  on the subranges.  Perhaps a special-purpose integrator should be used.\n",
      "  warnings.warn(msg, IntegrationWarning)\n"
     ]
    }
   ],
   "source": [
    "import numpy as np\n",
    "\n",
    "def IMF(m):\n",
    "    #use a Kroupa IMF\n",
    "    if (m<0.08):\n",
    "        alpha = 0.3\n",
    "    else:\n",
    "        if (m<0.5):\n",
    "            alpha = 1.3\n",
    "        else:\n",
    "            alpha = 2.3\n",
    "            \n",
    "    \n",
    "    return np.power(m, -1*alpha)\n",
    "\n",
    "from scipy.integrate import quad\n",
    "\n",
    "A = quad(IMF, 0, np.inf)[0]\n",
    "\n",
    "def mIMF(m):\n",
    "    return IMF(m)*m/A\n",
    "\n",
    "avm = quad(mIMF, 0, np.inf)[0]\n",
    "\n",
    "print(avm)"
   ]
  },
  {
   "cell_type": "code",
   "execution_count": 1,
   "metadata": {},
   "outputs": [],
   "source": [
    "import numpy as np\n",
    "import matplotlib.pyplot as plt\n",
    "from ML_functions import gen_events\n",
    "from density_funcs import rho_baryon\n",
    "\n",
    "from astropy.io import fits\n",
    "hdu = fits.open('galaxy1.fits')\n",
    "data = hdu[1].data\n",
    "\n",
    "events_one, T = gen_events(0.36, 100, 1.0, rho_baryon, data, iso = False, baryons = False)\n",
    "events_one = events_one[1]\n",
    "\n",
    "np.savetxt('baryon_events_one.txt', events_one)"
   ]
  },
  {
   "cell_type": "code",
   "execution_count": null,
   "metadata": {},
   "outputs": [],
   "source": []
  }
 ],
 "metadata": {
  "kernelspec": {
   "display_name": "Python 3",
   "language": "python",
   "name": "python3"
  },
  "language_info": {
   "codemirror_mode": {
    "name": "ipython",
    "version": 3
   },
   "file_extension": ".py",
   "mimetype": "text/x-python",
   "name": "python",
   "nbconvert_exporter": "python",
   "pygments_lexer": "ipython3",
   "version": "3.6.2"
  }
 },
 "nbformat": 4,
 "nbformat_minor": 2
}
