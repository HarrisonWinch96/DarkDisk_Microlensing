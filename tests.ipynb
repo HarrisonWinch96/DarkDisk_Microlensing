{
 "cells": [
  {
   "cell_type": "code",
   "execution_count": null,
   "metadata": {},
   "outputs": [],
   "source": [
    "#notebook to test scripts to make plots"
   ]
  },
  {
   "cell_type": "code",
   "execution_count": 1,
   "metadata": {},
   "outputs": [],
   "source": [
    "#from ML_functions_sources import max_f\n",
    "from ML_functions import *\n",
    "#import ML_functions as ml\n",
    "import numpy as np\n",
    "import matplotlib.pyplot as plt"
   ]
  },
  {
   "cell_type": "code",
   "execution_count": null,
   "metadata": {},
   "outputs": [],
   "source": []
  },
  {
   "cell_type": "code",
   "execution_count": 2,
   "metadata": {},
   "outputs": [
    {
     "name": "stdout",
     "output_type": "stream",
     "text": [
      "done generating events\n"
     ]
    },
    {
     "data": {
      "image/png": "[encoded data removed]",
      "text/plain": [
       "<matplotlib.figure.Figure at 0x7f7f3d5d1080>"
      ]
     },
     "metadata": {},
     "output_type": "display_data"
    },
    {
     "data": {
      "text/plain": [
       "-11.363380935354206"
      ]
     },
     "execution_count": 2,
     "metadata": {},
     "output_type": "execute_result"
    }
   ],
   "source": [
    "qmd = np.array([0.1,0.1])\n",
    "max_f(1, 50, qmd, rho_mirrordisk, data = data_masked, logfexp = 0)"
   ]
  },
  {
   "cell_type": "code",
   "execution_count": 5,
   "metadata": {},
   "outputs": [
    {
     "data": {
      "text/plain": [
       "array([0])"
      ]
     },
     "execution_count": 5,
     "metadata": {},
     "output_type": "execute_result"
    }
   ],
   "source": [
    "import numpy as np\n",
    "x = np.arange(1)\n",
    "x[::1]"
   ]
  },
  {
   "cell_type": "code",
   "execution_count": 9,
   "metadata": {},
   "outputs": [
    {
     "name": "stdout",
     "output_type": "stream",
     "text": [
      "done generating events\n"
     ]
    },
    {
     "data": {
      "text/plain": [
       "-3.4501592348981904"
      ]
     },
     "execution_count": 9,
     "metadata": {},
     "output_type": "execute_result"
    }
   ],
   "source": [
    "max_f(1, 1, 1.0, rho_NFW, data='LMC', logfexp=0)"
   ]
  },
  {
   "cell_type": "code",
   "execution_count": 15,
   "metadata": {},
   "outputs": [],
   "source": [
    "from scipy.integrate import tplquad\n",
    "from astropy import units as u\n",
    "from density_funcs import *\n",
    "\n",
    "def totalmass(rho, q):\n",
    "    integrand = lambda r, z, th, q : rho(r,z,th,q)*r\n",
    "\n",
    "    Theta = np.linspace(0,2*np.pi, 1000)\n",
    "    lim = 50000\n",
    "    Z = np.linspace(-lim, lim, 1000)*u.parsec\n",
    "    R = np.linspace(0, 2*lim, 1000)*u.parsec\n",
    "    \n",
    "    grid = np.meshgrid(R, Z, Theta)\n",
    "    \n",
    "    \n",
    "    \n",
    "    return grid\n",
    "    \n",
    "grid = totalmass(rho_NFW, 1)"
   ]
  },
  {
   "cell_type": "code",
   "execution_count": 16,
   "metadata": {},
   "outputs": [],
   "source": [
    "Rho = rho_NFW(grid[0], grid[1], grid[2], 1.0)"
   ]
  },
  {
   "cell_type": "code",
   "execution_count": 17,
   "metadata": {},
   "outputs": [
    {
     "name": "stdout",
     "output_type": "stream",
     "text": [
      "[[[2.63287420e-04 2.63287420e-04 2.63287420e-04 ... 2.63287420e-04\n",
      "   2.63287420e-04 2.63287420e-04]\n",
      "  [2.63286093e-04 2.63286093e-04 2.63286093e-04 ... 2.63286093e-04\n",
      "   2.63286093e-04 2.63286093e-04]\n",
      "  [2.63282111e-04 2.63282111e-04 2.63282111e-04 ... 2.63282111e-04\n",
      "   2.63282111e-04 2.63282111e-04]\n",
      "  ...\n",
      "  [3.15400035e-05 3.15400035e-05 3.15400035e-05 ... 3.15400035e-05\n",
      "   3.15400035e-05 3.15400035e-05]\n",
      "  [3.14705764e-05 3.14705764e-05 3.14705764e-05 ... 3.14705764e-05\n",
      "   3.14705764e-05 3.14705764e-05]\n",
      "  [3.14013391e-05 3.14013391e-05 3.14013391e-05 ... 3.14013391e-05\n",
      "   3.14013391e-05 3.14013391e-05]]\n",
      "\n",
      " [[2.64617645e-04 2.64617645e-04 2.64617645e-04 ... 2.64617645e-04\n",
      "   2.64617645e-04 2.64617645e-04]\n",
      "  [2.64616306e-04 2.64616306e-04 2.64616306e-04 ... 2.64616306e-04\n",
      "   2.64616306e-04 2.64616306e-04]\n",
      "  [2.64612290e-04 2.64612290e-04 2.64612290e-04 ... 2.64612290e-04\n",
      "   2.64612290e-04 2.64612290e-04]\n",
      "  ...\n",
      "  [3.15748322e-05 3.15748322e-05 3.15748322e-05 ... 3.15748322e-05\n",
      "   3.15748322e-05 3.15748322e-05]\n",
      "  [3.15052749e-05 3.15052749e-05 3.15052749e-05 ... 3.15052749e-05\n",
      "   3.15052749e-05 3.15052749e-05]\n",
      "  [3.14359080e-05 3.14359080e-05 3.14359080e-05 ... 3.14359080e-05\n",
      "   3.14359080e-05 3.14359080e-05]]\n",
      "\n",
      " [[2.65956888e-04 2.65956888e-04 2.65956888e-04 ... 2.65956888e-04\n",
      "   2.65956888e-04 2.65956888e-04]\n",
      "  [2.65955537e-04 2.65955537e-04 2.65955537e-04 ... 2.65955537e-04\n",
      "   2.65955537e-04 2.65955537e-04]\n",
      "  [2.65951486e-04 2.65951486e-04 2.65951486e-04 ... 2.65951486e-04\n",
      "   2.65951486e-04 2.65951486e-04]\n",
      "  ...\n",
      "  [3.16096562e-05 3.16096562e-05 3.16096562e-05 ... 3.16096562e-05\n",
      "   3.16096562e-05 3.16096562e-05]\n",
      "  [3.15399686e-05 3.15399686e-05 3.15399686e-05 ... 3.15399686e-05\n",
      "   3.15399686e-05 3.15399686e-05]\n",
      "  [3.14704721e-05 3.14704721e-05 3.14704721e-05 ... 3.14704721e-05\n",
      "   3.14704721e-05 3.14704721e-05]]\n",
      "\n",
      " ...\n",
      "\n",
      " [[2.65956888e-04 2.65956888e-04 2.65956888e-04 ... 2.65956888e-04\n",
      "   2.65956888e-04 2.65956888e-04]\n",
      "  [2.65955537e-04 2.65955537e-04 2.65955537e-04 ... 2.65955537e-04\n",
      "   2.65955537e-04 2.65955537e-04]\n",
      "  [2.65951486e-04 2.65951486e-04 2.65951486e-04 ... 2.65951486e-04\n",
      "   2.65951486e-04 2.65951486e-04]\n",
      "  ...\n",
      "  [3.16096562e-05 3.16096562e-05 3.16096562e-05 ... 3.16096562e-05\n",
      "   3.16096562e-05 3.16096562e-05]\n",
      "  [3.15399686e-05 3.15399686e-05 3.15399686e-05 ... 3.15399686e-05\n",
      "   3.15399686e-05 3.15399686e-05]\n",
      "  [3.14704721e-05 3.14704721e-05 3.14704721e-05 ... 3.14704721e-05\n",
      "   3.14704721e-05 3.14704721e-05]]\n",
      "\n",
      " [[2.64617645e-04 2.64617645e-04 2.64617645e-04 ... 2.64617645e-04\n",
      "   2.64617645e-04 2.64617645e-04]\n",
      "  [2.64616306e-04 2.64616306e-04 2.64616306e-04 ... 2.64616306e-04\n",
      "   2.64616306e-04 2.64616306e-04]\n",
      "  [2.64612290e-04 2.64612290e-04 2.64612290e-04 ... 2.64612290e-04\n",
      "   2.64612290e-04 2.64612290e-04]\n",
      "  ...\n",
      "  [3.15748322e-05 3.15748322e-05 3.15748322e-05 ... 3.15748322e-05\n",
      "   3.15748322e-05 3.15748322e-05]\n",
      "  [3.15052749e-05 3.15052749e-05 3.15052749e-05 ... 3.15052749e-05\n",
      "   3.15052749e-05 3.15052749e-05]\n",
      "  [3.14359080e-05 3.14359080e-05 3.14359080e-05 ... 3.14359080e-05\n",
      "   3.14359080e-05 3.14359080e-05]]\n",
      "\n",
      " [[2.63287420e-04 2.63287420e-04 2.63287420e-04 ... 2.63287420e-04\n",
      "   2.63287420e-04 2.63287420e-04]\n",
      "  [2.63286093e-04 2.63286093e-04 2.63286093e-04 ... 2.63286093e-04\n",
      "   2.63286093e-04 2.63286093e-04]\n",
      "  [2.63282111e-04 2.63282111e-04 2.63282111e-04 ... 2.63282111e-04\n",
      "   2.63282111e-04 2.63282111e-04]\n",
      "  ...\n",
      "  [3.15400035e-05 3.15400035e-05 3.15400035e-05 ... 3.15400035e-05\n",
      "   3.15400035e-05 3.15400035e-05]\n",
      "  [3.14705764e-05 3.14705764e-05 3.14705764e-05 ... 3.14705764e-05\n",
      "   3.14705764e-05 3.14705764e-05]\n",
      "  [3.14013391e-05 3.14013391e-05 3.14013391e-05 ... 3.14013391e-05\n",
      "   3.14013391e-05 3.14013391e-05]]] solMass / pc3\n"
     ]
    }
   ],
   "source": [
    "print(Rho)"
   ]
  },
  {
   "cell_type": "code",
   "execution_count": 3,
   "metadata": {},
   "outputs": [
    {
     "data": {
      "text/plain": [
       "array([0.        , 1.57079633, 3.14159265, 4.71238898])"
      ]
     },
     "execution_count": 3,
     "metadata": {},
     "output_type": "execute_result"
    }
   ],
   "source": [
    "np.arange(0,2*np.pi, np.pi/2)"
   ]
  },
  {
   "cell_type": "code",
   "execution_count": 5,
   "metadata": {},
   "outputs": [
    {
     "ename": "TypeError",
     "evalue": "Invalid dimensions for image data",
     "output_type": "error",
     "traceback": [
      "\u001b[0;31m---------------------------------------------------------------------------\u001b[0m",
      "\u001b[0;31mTypeError\u001b[0m                                 Traceback (most recent call last)",
      "\u001b[0;32m<ipython-input-5-8d32b68fa3e0>\u001b[0m in \u001b[0;36m<module>\u001b[0;34m()\u001b[0m\n\u001b[1;32m      8\u001b[0m \u001b[0mrs\u001b[0m \u001b[0;34m=\u001b[0m \u001b[0mrho_semis\u001b[0m\u001b[0;34m(\u001b[0m\u001b[0mco\u001b[0m\u001b[0;34m[\u001b[0m\u001b[0;36m0\u001b[0m\u001b[0;34m]\u001b[0m\u001b[0;34m,\u001b[0m\u001b[0mco\u001b[0m\u001b[0;34m[\u001b[0m\u001b[0;36m1\u001b[0m\u001b[0;34m]\u001b[0m\u001b[0;34m,\u001b[0m \u001b[0mco\u001b[0m\u001b[0;34m[\u001b[0m\u001b[0;36m2\u001b[0m\u001b[0;34m]\u001b[0m\u001b[0;34m,\u001b[0m\u001b[0;36m1.0\u001b[0m\u001b[0;34m)\u001b[0m\u001b[0;34m\u001b[0m\u001b[0m\n\u001b[1;32m      9\u001b[0m \u001b[0;34m\u001b[0m\u001b[0m\n\u001b[0;32m---> 10\u001b[0;31m \u001b[0mplt\u001b[0m\u001b[0;34m.\u001b[0m\u001b[0mimshow\u001b[0m\u001b[0;34m(\u001b[0m\u001b[0mrs\u001b[0m\u001b[0;34m.\u001b[0m\u001b[0mvalue\u001b[0m\u001b[0;34m)\u001b[0m\u001b[0;34m\u001b[0m\u001b[0m\n\u001b[0m\u001b[1;32m     11\u001b[0m \u001b[0mplt\u001b[0m\u001b[0;34m.\u001b[0m\u001b[0mcolorbar\u001b[0m\u001b[0;34m(\u001b[0m\u001b[0;34m)\u001b[0m\u001b[0;34m\u001b[0m\u001b[0m\n\u001b[1;32m     12\u001b[0m \u001b[0mplt\u001b[0m\u001b[0;34m.\u001b[0m\u001b[0mshow\u001b[0m\u001b[0;34m(\u001b[0m\u001b[0;34m)\u001b[0m\u001b[0;34m\u001b[0m\u001b[0m\n",
      "\u001b[0;32m/usr/local/lib/python3.6/site-packages/matplotlib/pyplot.py\u001b[0m in \u001b[0;36mimshow\u001b[0;34m(X, cmap, norm, aspect, interpolation, alpha, vmin, vmax, origin, extent, shape, filternorm, filterrad, imlim, resample, url, hold, data, **kwargs)\u001b[0m\n\u001b[1;32m   3155\u001b[0m                         \u001b[0mfilternorm\u001b[0m\u001b[0;34m=\u001b[0m\u001b[0mfilternorm\u001b[0m\u001b[0;34m,\u001b[0m \u001b[0mfilterrad\u001b[0m\u001b[0;34m=\u001b[0m\u001b[0mfilterrad\u001b[0m\u001b[0;34m,\u001b[0m\u001b[0;34m\u001b[0m\u001b[0m\n\u001b[1;32m   3156\u001b[0m                         \u001b[0mimlim\u001b[0m\u001b[0;34m=\u001b[0m\u001b[0mimlim\u001b[0m\u001b[0;34m,\u001b[0m \u001b[0mresample\u001b[0m\u001b[0;34m=\u001b[0m\u001b[0mresample\u001b[0m\u001b[0;34m,\u001b[0m \u001b[0murl\u001b[0m\u001b[0;34m=\u001b[0m\u001b[0murl\u001b[0m\u001b[0;34m,\u001b[0m \u001b[0mdata\u001b[0m\u001b[0;34m=\u001b[0m\u001b[0mdata\u001b[0m\u001b[0;34m,\u001b[0m\u001b[0;34m\u001b[0m\u001b[0m\n\u001b[0;32m-> 3157\u001b[0;31m                         **kwargs)\n\u001b[0m\u001b[1;32m   3158\u001b[0m     \u001b[0;32mfinally\u001b[0m\u001b[0;34m:\u001b[0m\u001b[0;34m\u001b[0m\u001b[0m\n\u001b[1;32m   3159\u001b[0m         \u001b[0max\u001b[0m\u001b[0;34m.\u001b[0m\u001b[0m_hold\u001b[0m \u001b[0;34m=\u001b[0m \u001b[0mwashold\u001b[0m\u001b[0;34m\u001b[0m\u001b[0m\n",
      "\u001b[0;32m/usr/local/lib/python3.6/site-packages/matplotlib/__init__.py\u001b[0m in \u001b[0;36minner\u001b[0;34m(ax, *args, **kwargs)\u001b[0m\n\u001b[1;32m   1896\u001b[0m                     warnings.warn(msg % (label_namer, func.__name__),\n\u001b[1;32m   1897\u001b[0m                                   RuntimeWarning, stacklevel=2)\n\u001b[0;32m-> 1898\u001b[0;31m             \u001b[0;32mreturn\u001b[0m \u001b[0mfunc\u001b[0m\u001b[0;34m(\u001b[0m\u001b[0max\u001b[0m\u001b[0;34m,\u001b[0m \u001b[0;34m*\u001b[0m\u001b[0margs\u001b[0m\u001b[0;34m,\u001b[0m \u001b[0;34m**\u001b[0m\u001b[0mkwargs\u001b[0m\u001b[0;34m)\u001b[0m\u001b[0;34m\u001b[0m\u001b[0m\n\u001b[0m\u001b[1;32m   1899\u001b[0m         \u001b[0mpre_doc\u001b[0m \u001b[0;34m=\u001b[0m \u001b[0minner\u001b[0m\u001b[0;34m.\u001b[0m\u001b[0m__doc__\u001b[0m\u001b[0;34m\u001b[0m\u001b[0m\n\u001b[1;32m   1900\u001b[0m         \u001b[0;32mif\u001b[0m \u001b[0mpre_doc\u001b[0m \u001b[0;32mis\u001b[0m \u001b[0;32mNone\u001b[0m\u001b[0;34m:\u001b[0m\u001b[0;34m\u001b[0m\u001b[0m\n",
      "\u001b[0;32m/usr/local/lib/python3.6/site-packages/matplotlib/axes/_axes.py\u001b[0m in \u001b[0;36mimshow\u001b[0;34m(self, X, cmap, norm, aspect, interpolation, alpha, vmin, vmax, origin, extent, shape, filternorm, filterrad, imlim, resample, url, **kwargs)\u001b[0m\n\u001b[1;32m   5122\u001b[0m                               resample=resample, **kwargs)\n\u001b[1;32m   5123\u001b[0m \u001b[0;34m\u001b[0m\u001b[0m\n\u001b[0;32m-> 5124\u001b[0;31m         \u001b[0mim\u001b[0m\u001b[0;34m.\u001b[0m\u001b[0mset_data\u001b[0m\u001b[0;34m(\u001b[0m\u001b[0mX\u001b[0m\u001b[0;34m)\u001b[0m\u001b[0;34m\u001b[0m\u001b[0m\n\u001b[0m\u001b[1;32m   5125\u001b[0m         \u001b[0mim\u001b[0m\u001b[0;34m.\u001b[0m\u001b[0mset_alpha\u001b[0m\u001b[0;34m(\u001b[0m\u001b[0malpha\u001b[0m\u001b[0;34m)\u001b[0m\u001b[0;34m\u001b[0m\u001b[0m\n\u001b[1;32m   5126\u001b[0m         \u001b[0;32mif\u001b[0m \u001b[0mim\u001b[0m\u001b[0;34m.\u001b[0m\u001b[0mget_clip_path\u001b[0m\u001b[0;34m(\u001b[0m\u001b[0;34m)\u001b[0m \u001b[0;32mis\u001b[0m \u001b[0;32mNone\u001b[0m\u001b[0;34m:\u001b[0m\u001b[0;34m\u001b[0m\u001b[0m\n",
      "\u001b[0;32m/usr/local/lib/python3.6/site-packages/matplotlib/image.py\u001b[0m in \u001b[0;36mset_data\u001b[0;34m(self, A)\u001b[0m\n\u001b[1;32m    598\u001b[0m         if (self._A.ndim not in (2, 3) or\n\u001b[1;32m    599\u001b[0m                 (self._A.ndim == 3 and self._A.shape[-1] not in (3, 4))):\n\u001b[0;32m--> 600\u001b[0;31m             \u001b[0;32mraise\u001b[0m \u001b[0mTypeError\u001b[0m\u001b[0;34m(\u001b[0m\u001b[0;34m\"Invalid dimensions for image data\"\u001b[0m\u001b[0;34m)\u001b[0m\u001b[0;34m\u001b[0m\u001b[0m\n\u001b[0m\u001b[1;32m    601\u001b[0m \u001b[0;34m\u001b[0m\u001b[0m\n\u001b[1;32m    602\u001b[0m         \u001b[0mself\u001b[0m\u001b[0;34m.\u001b[0m\u001b[0m_imcache\u001b[0m \u001b[0;34m=\u001b[0m \u001b[0;32mNone\u001b[0m\u001b[0;34m\u001b[0m\u001b[0m\n",
      "\u001b[0;31mTypeError\u001b[0m: Invalid dimensions for image data"
     ]
    },
    {
     "data": {
      "image/png": "[encoded data removed]",
      "text/plain": [
       "<matplotlib.figure.Figure at 0x7f0830e2bf60>"
      ]
     },
     "metadata": {},
     "output_type": "display_data"
    }
   ],
   "source": [
    "from density_funcs import *\n",
    "\n",
    "r = np.linspace(-10000, 10000, 100)*u.parsec\n",
    "z = np.linspace(-10000, 10000, 100)*u.parsec\n",
    "#th = np.linspace(0,np.pi, 100)\n",
    "\n",
    "co = np.meshgrid(r,z, th)\n",
    "rs = rho_semis(co[0],co[1], co[2],1.0)\n",
    "\n",
    "plt.imshow(rs.value)\n",
    "plt.colorbar()\n",
    "plt.show()\n",
    "\n",
    "#rm = rho_mirrordisktilt(np.abs(co[0]),co[1], [0.0, 0.0])\n",
    "#plt.imshow(rm.value)\n",
    "#plt.colorbar()"
   ]
  },
  {
   "cell_type": "code",
   "execution_count": 2,
   "metadata": {},
   "outputs": [],
   "source": [
    "from astropy.io import fits\n",
    "\n",
    "hdu = fits.open('galaxy1.fits')\n",
    "data0 = hdu[1].data\n",
    "data_masked = data0[~np.less(np.sqrt(data0['glat']**2 + ((data0['glon']+180)%360 - 180)**2), 2.0)]\n",
    "data_masked5 = data0[~np.less(np.sqrt(data0['glat']**2 + ((data0['glon']+180)%360 - 180)**2), 5.0)]\n"
   ]
  },
  {
   "cell_type": "code",
   "execution_count": 5,
   "metadata": {},
   "outputs": [
    {
     "name": "stdout",
     "output_type": "stream",
     "text": [
      "31800 500000\n",
      "[    0     0     0 ... 31798 31798 31799]\n",
      "number of sources:  500000\n"
     ]
    }
   ],
   "source": [
    "N_sources = 500000\n",
    "\n",
    "N_step = N_sources\n",
    "        #print(data)\n",
    "print(data0.size, N_step)\n",
    "res = np.int(data0.size/N_step)\n",
    "N_ev = 0\n",
    "\n",
    "sources_per_LoS = 17e9/N_sources\n",
    "\n",
    "spots = np.linspace(0, data0.size - 1, N_sources)\n",
    "spots = spots.astype(int)\n",
    "print(spots)\n",
    "                 \n",
    "\n",
    "i = 0\n",
    "for s in data0[spots]:\n",
    "    i = i+1\n",
    "    \n",
    "    if (i >= N_sources): break\n",
    "    \n",
    "print('number of sources: ', i)"
   ]
  },
  {
   "cell_type": "code",
   "execution_count": 26,
   "metadata": {},
   "outputs": [],
   "source": [
    "from astropy.io import fits\n",
    "hdu = fits.open('galaxy1.fits')\n",
    "data = hdu[1].data"
   ]
  },
  {
   "cell_type": "code",
   "execution_count": 33,
   "metadata": {},
   "outputs": [
    {
     "ename": "AttributeError",
     "evalue": "module 'numpy.random' has no attribute 'default_rng'",
     "output_type": "error",
     "traceback": [
      "\u001b[0;31m---------------------------------------------------------------------------\u001b[0m",
      "\u001b[0;31mAttributeError\u001b[0m                            Traceback (most recent call last)",
      "\u001b[0;32m<ipython-input-33-519438a10d4c>\u001b[0m in \u001b[0;36m<module>\u001b[0;34m()\u001b[0m\n\u001b[1;32m      1\u001b[0m \u001b[0;32mimport\u001b[0m \u001b[0mnumpy\u001b[0m \u001b[0;32mas\u001b[0m \u001b[0mnp\u001b[0m\u001b[0;34m\u001b[0m\u001b[0m\n\u001b[1;32m      2\u001b[0m \u001b[0;34m\u001b[0m\u001b[0m\n\u001b[0;32m----> 3\u001b[0;31m \u001b[0mrng\u001b[0m \u001b[0;34m=\u001b[0m \u001b[0mnp\u001b[0m\u001b[0;34m.\u001b[0m\u001b[0mrandom\u001b[0m\u001b[0;34m.\u001b[0m\u001b[0mdefault_rng\u001b[0m\u001b[0;34m(\u001b[0m\u001b[0;34m)\u001b[0m\u001b[0;34m\u001b[0m\u001b[0m\n\u001b[0m\u001b[1;32m      4\u001b[0m \u001b[0;34m\u001b[0m\u001b[0m\n\u001b[1;32m      5\u001b[0m \u001b[0mprint\u001b[0m\u001b[0;34m(\u001b[0m\u001b[0mdata\u001b[0m\u001b[0;34m[\u001b[0m\u001b[0;36m0\u001b[0m\u001b[0;34m]\u001b[0m\u001b[0;34m)\u001b[0m\u001b[0;34m\u001b[0m\u001b[0m\n",
      "\u001b[0;31mAttributeError\u001b[0m: module 'numpy.random' has no attribute 'default_rng'"
     ]
    }
   ],
   "source": [
    "import numpy as np\n",
    "\n",
    "rng = np.random.default_rng()\n",
    "\n",
    "print(data[0])\n",
    "rng.shuffle(data[0])\n",
    "print(data[0])"
   ]
  },
  {
   "cell_type": "code",
   "execution_count": null,
   "metadata": {},
   "outputs": [],
   "source": []
  }
 ],
 "metadata": {
  "kernelspec": {
   "display_name": "Python 3",
   "language": "python",
   "name": "python3"
  },
  "language_info": {
   "codemirror_mode": {
    "name": "ipython",
    "version": 3
   },
   "file_extension": ".py",
   "mimetype": "text/x-python",
   "name": "python",
   "nbconvert_exporter": "python",
   "pygments_lexer": "ipython3",
   "version": "3.6.2"
  }
 },
 "nbformat": 4,
 "nbformat_minor": 2
}
